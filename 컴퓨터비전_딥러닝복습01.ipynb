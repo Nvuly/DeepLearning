{
 "cells": [
  {
   "cell_type": "code",
   "execution_count": 49,
   "metadata": {},
   "outputs": [],
   "source": [
    "import numpy as np\n",
    "import pandas as pd\n",
    "#ㅡㅡㅡㅡㅡㅡㅡㅡㅡㅡㅡㅡㅡㅡㅡㅡㅡㅡㅡㅡㅡㅡㅡㅡㅡ\n",
    "import random\n",
    "import os\n",
    "import gc\n",
    "\n",
    "from sklearn.ensemble import RandomForestClassifier\n",
    "from sklearn.preprocessing import LabelEncoder\n",
    "#ㅡㅡㅡㅡㅡㅡㅡㅡㅡㅡㅡㅡㅡㅡㅡㅡㅡㅡㅡㅡㅡㅡㅡㅡㅡ\n",
    "import requests\n",
    "from bs4 import BeautifulSoup\n",
    "import matplotlib.pyplot as plt\n",
    "import seaborn as sns\n",
    "from sklearn.model_selection import GridSearchCV\n",
    "from sklearn.model_selection import train_test_split\n",
    "from sklearn.metrics import accuracy_score, f1_score, precision_score, recall_score\n",
    "from sklearn.metrics.pairwise import linear_kernel\n",
    "from sklearn.tree import DecisionTreeClassifier\n",
    "from sklearn.linear_model import LinearRegression\n",
    "from lightgbm import LGBMClassifier\n",
    "# ㅡㅡㅡㅡㅡㅡㅡㅡㅡㅡㅡㅡㅡㅡㅡㅡㅡㅡㅡㅡㅡㅡㅡㅡㅡㅡㅡㅡㅡㅡㅡㅡㅡㅡㅡㅡㅡㅡㅡㅡㅡㅡㅡㅡㅡㅡㅡ\n",
    "import tensorflow as tf\n",
    "from transformers import pipeline, set_seed, BertTokenizer, TFBertForSequenceClassification\n",
    "# ㅡㅡㅡㅡㅡㅡㅡㅡㅡㅡㅡㅡㅡㅡㅡㅡㅡㅡㅡㅡㅡㅡㅡㅡㅡㅡㅡㅡㅡㅡㅡㅡㅡㅡㅡㅡㅡㅡㅡㅡㅡㅡㅡㅡㅡㅡㅡ\n",
    "import re\n",
    "import nltk\n",
    "from nltk.corpus import stopwords\n",
    "# ㅡㅡㅡㅡㅡㅡㅡㅡㅡㅡㅡㅡㅡㅡㅡㅡㅡㅡㅡㅡㅡㅡㅡㅡㅡㅡㅡㅡㅡㅡㅡㅡㅡㅡㅡㅡㅡㅡㅡㅡㅡㅡㅡㅡㅡㅡㅡ\n",
    "from sentence_transformers import SentenceTransformer\n"
   ]
  },
  {
   "cell_type": "code",
   "execution_count": 50,
   "metadata": {},
   "outputs": [],
   "source": [
    "# RNN은 데이터 --> Embedding Layer(특성, 단어 임베딩) --> RNNLayer(문장임베딩) --> Dense layer\n",
    "\n",
    "# 임베딩레이어와 RNNLayer는 특성 추출임\n",
    "\n",
    "# 추출한것을 문장당 몇개의 숫자를 넘겨주면 그 숫자값을 입력으로 해서 Dense layer에서 분류\n",
    "\n",
    "# 앞단계는 특성추출, 뒷단계는 분류\n",
    "\n",
    "# CNN도 비슷하다!"
   ]
  },
  {
   "cell_type": "markdown",
   "metadata": {},
   "source": [
    "## CNN"
   ]
  },
  {
   "cell_type": "code",
   "execution_count": 51,
   "metadata": {},
   "outputs": [
    {
     "data": {
      "text/plain": [
       "'\\n\\n특징 추출\\n\\n1. Convolution Layer (합성곱 계층) : 합성곱 연산\\n2. Pooling Layer(풀링 계층) : 풀링 연산\\n줄여서 Feature Map\\n\\n분류\\n\\nFully Connected Layer (완전 연결 계층) : 물체 분류\\n\\n'"
      ]
     },
     "execution_count": 51,
     "metadata": {},
     "output_type": "execute_result"
    }
   ],
   "source": [
    "# CNN(Convolutional Neural Network) - 구성요소\n",
    "'''\n",
    "\n",
    "특징 추출\n",
    "\n",
    "1. Convolution Layer (합성곱 계층) : 합성곱 연산\n",
    "2. Pooling Layer(풀링 계층) : 풀링 연산\n",
    "줄여서 Feature Map\n",
    "\n",
    "분류\n",
    "\n",
    "Fully Connected Layer (완전 연결 계층) : 물체 분류\n",
    "\n",
    "'''\n",
    "\n",
    "# 다중분류면 softmax 함수, 단일분류(이중)이면 sigmoid 함수"
   ]
  },
  {
   "cell_type": "code",
   "execution_count": 52,
   "metadata": {},
   "outputs": [],
   "source": [
    "# 1-1. 합성곱 계층(Convolution Layer) < 핵심\n",
    "# 역할 : 합성곱 연산을 통해 이미지에서 특징을 추출\n",
    "# 특징(feature) : 물체들을 구별할 수 있는 성질 예) 윤곽선, 귀의 모양, 얼굴의 형태\n",
    "# 필터(filter, mask, kernel) : 3X3 또는 5x5크기의 행렬(2차원 배열)\n",
    "# - 원본이미지를 변환한다의 의미, 필터\n",
    "# - 가린다는 마스크"
   ]
  },
  {
   "cell_type": "code",
   "execution_count": 53,
   "metadata": {},
   "outputs": [
    {
     "data": {
      "text/plain": [
       "'\\n\\nstrides가 2일때와 비교하면 1일때보다 결과값이\\nstrides가 2일 때 정확하게 2배로 줄어든다\\n\\n'"
      ]
     },
     "execution_count": 53,
     "metadata": {},
     "output_type": "execute_result"
    }
   ],
   "source": [
    "# 합성곱 연산 후 이미지의 크기\n",
    "\n",
    "# 입력 이미지의 크기 (H, W)\n",
    "# 필터의 크기 (FH, FW)\n",
    "# 특성맵의 크기 (OH, OW)\n",
    "# -->\n",
    "\n",
    "# OH = ( H - FH ) +1\n",
    "# OW = ( W - FW) +1\n",
    "\n",
    "'''\n",
    "\n",
    "strides가 2일때와 비교하면 1일때보다 결과값이\n",
    "strides가 2일 때 정확하게 2배로 줄어든다\n",
    "\n",
    "'''"
   ]
  },
  {
   "cell_type": "code",
   "execution_count": 54,
   "metadata": {},
   "outputs": [],
   "source": [
    "# 컬러라서 3채널.RGB\n",
    "\n",
    "# 입력 채널이 3채널이면 필터도 3채널이어야 함\n",
    "\n",
    "# 입력 채널 수와 필터의 채널 수가 같아야 함\n",
    "\n",
    "# (4, 4, 3) (3, 3, 3) = (1+1) (1+1) Feature맵은 2차원으로 나옴. "
   ]
  },
  {
   "cell_type": "code",
   "execution_count": 55,
   "metadata": {},
   "outputs": [],
   "source": [
    "# 3차원 데이터의 합성곱 : 블록(cube)으로 생각하기\n",
    "# 입력 데이터와 필터를 아래의 그림처럼 직육면체의 블록으로 생각하면 쉬움.\n",
    "# 3차원 데이터의 모양은 (높이, 너비, 채널) = (Height, Width, Channel) 순으로 표현함\n",
    "\n",
    "# 필터수만큼 피쳐맵이 나옴"
   ]
  },
  {
   "cell_type": "code",
   "execution_count": 56,
   "metadata": {},
   "outputs": [],
   "source": [
    "# OpenCV와 딥러닝 중 어떤 필터가 최선일까?\n",
    "\n",
    "# 1. OpenCV : 가중치(필터의 숫자 값)을 사람이 결정함.\n",
    "# 2. 딥러닝 : 랜덤한 숫자 값에서 출발\n",
    "# -> 학습을 통해 최적의 가중치를 찾음\n",
    "# -> 딥러닝에서 학습을 한다는 것은 필터의 가중치 값을 찾는다는 것"
   ]
  },
  {
   "cell_type": "markdown",
   "metadata": {},
   "source": [
    "## 패딩(Padding)"
   ]
  },
  {
   "cell_type": "code",
   "execution_count": 57,
   "metadata": {},
   "outputs": [],
   "source": [
    "# 패딩(padding)\n",
    "# - 개념 : 합성곱 연산을 수행하기 전에 입력데이터 주변을 특정 값(주로 0)으로 채워넣는 것.\n",
    "# - 목적 : feature map(특성 맵)의 크기를 입력 데이터의 크기와 동일하게 만드는 것.\n",
    "\n",
    "# (4,4) padding (6,6)\n",
    "# (3,3)을 기준으로 convolution 연산의 결과 (4,4)이 됨.\n",
    "\n",
    "# 앞에서 봤던 특성들이 아닌 다른 특성들을 더 뽑을 수 있을때까지 돌려보는 것."
   ]
  },
  {
   "cell_type": "markdown",
   "metadata": {},
   "source": [
    "## 풀링(Pooling)"
   ]
  },
  {
   "cell_type": "code",
   "execution_count": 58,
   "metadata": {},
   "outputs": [
    {
     "data": {
      "text/plain": [
       "'\\n\\n1. 풀링(Pooling)\\n개념 : feature map(특성 맵)의 가로, 세로 방향의 크기를 줄이는 연산\\n종류 : Max Pooling, Average Pooling\\n효과 : 데이터 압축, 불필요한 노이즈 제거\\n\\n'"
      ]
     },
     "execution_count": 58,
     "metadata": {},
     "output_type": "execute_result"
    }
   ],
   "source": [
    "'''\n",
    "\n",
    "1. 풀링(Pooling)\n",
    "개념 : feature map(특성 맵)의 가로, 세로 방향의 크기를 줄이는 연산\n",
    "종류 : Max Pooling, Average Pooling\n",
    "효과 : 데이터 압축, 불필요한 노이즈 제거\n",
    "\n",
    "'''\n",
    "\n",
    "# Windows Size와 Stride 똑같이 연동돼서 간다!\n",
    "\n",
    "# (4,4) -> (2,2) # 픽셀값이 4분의1로 줄어든다. 4x4=16, 2x2=4...\n",
    "\n",
    "# 불필요한 노이즈가 제거된다, 데이터 압축\n",
    "\n",
    "# 입력 신호의 값을 그대로 출력하는 것이 아님"
   ]
  },
  {
   "cell_type": "code",
   "execution_count": 59,
   "metadata": {},
   "outputs": [
    {
     "data": {
      "text/plain": [
       "'\\n\\n목적에 따라 이진분류, 다중분류, 활성화함수를 다르게 선택하면 되는 것이고,\\n\\n딱 0일 때 1/2이다.\\n\\n0이상이면 >_1/2 그냥 1로 수렴시킴\\n\\n0이하이면 <-1/2 그냥 0으로 수렴시킴\\n\\n'"
      ]
     },
     "execution_count": 59,
     "metadata": {},
     "output_type": "execute_result"
    }
   ],
   "source": [
    "# 마지막 처리, 출력층의 활성화 함수 - 이진분류\n",
    "\n",
    "'''\n",
    "\n",
    "목적에 따라 이진분류, 다중분류, 활성화함수를 다르게 선택하면 되는 것이고,\n",
    "\n",
    "딱 0일 때 1/2이다.\n",
    "\n",
    "0이상이면 >_1/2 그냥 1로 수렴시킴\n",
    "\n",
    "0이하이면 <-1/2 그냥 0으로 수렴시킴\n",
    "\n",
    "'''\n",
    "\n",
    "# 이미지분류나 텍스트분류나 특성추출 RNN CNN은 다르지만\n",
    "\n",
    "# 그 결과값은 넘어와서 Dense Layer에서 처리되기는 마찬가지다!"
   ]
  },
  {
   "cell_type": "code",
   "execution_count": 60,
   "metadata": {},
   "outputs": [
    {
     "data": {
      "text/plain": [
       "'\\n1.3                   0.02\\n5.1                   0.90\\n2.2                   0.05\\n0.7                   0.01\\n1.1                   0.02\\n우측값의 합이 1.9\\n'"
      ]
     },
     "execution_count": 60,
     "metadata": {},
     "output_type": "execute_result"
    }
   ],
   "source": [
    "# 출력층의 활성화 함수 - 다중분류\n",
    "\n",
    "'''\n",
    "1.3                   0.02\n",
    "5.1                   0.90\n",
    "2.2                   0.05\n",
    "0.7                   0.01\n",
    "1.1                   0.02\n",
    "우측값의 합이 1.9\n",
    "'''"
   ]
  },
  {
   "cell_type": "code",
   "execution_count": 61,
   "metadata": {},
   "outputs": [
    {
     "data": {
      "text/plain": [
       "'\\nReLU 함수 : 입력 값이 음수면 0으로 비활성화하고, 입력 값이 양수면 해당 값을 그대로 출력\\n            y=x 입력이 그대로 출력, 입력의 총합이 0이상일 때,\\n            \\n            tanh(하이퍼블릭 탄젠트) 함수 : 시그모이드 함수와 비슷, 출력 값이 -1과 1사이에 존재\\n            \\n'"
      ]
     },
     "execution_count": 61,
     "metadata": {},
     "output_type": "execute_result"
    }
   ],
   "source": [
    "# 은닉층의 활성화 함수\n",
    "'''\n",
    "ReLU 함수 : 입력 값이 음수면 0으로 비활성화하고, 입력 값이 양수면 해당 값을 그대로 출력\n",
    "            y=x 입력이 그대로 출력, 입력의 총합이 0이상일 때,\n",
    "            \n",
    "            tanh(하이퍼블릭 탄젠트) 함수 : 시그모이드 함수와 비슷, 출력 값이 -1과 1사이에 존재\n",
    "            \n",
    "'''"
   ]
  },
  {
   "cell_type": "markdown",
   "metadata": {},
   "source": [
    "## tensorflow.keras로 CNN 구현하기"
   ]
  },
  {
   "cell_type": "code",
   "execution_count": 62,
   "metadata": {},
   "outputs": [
    {
     "data": {
      "text/plain": [
       "'\\n\\nConv2D에 ReLU 함수 사용, tanh 사용\\n\\nDense에서는 이진이면 Sigmoid, 다중이면 SoftMax사용\\n\\n'"
      ]
     },
     "execution_count": 62,
     "metadata": {},
     "output_type": "execute_result"
    }
   ],
   "source": [
    "# RGB input image --> tf.keras.layers.Conv2D() --> tf.keras.layers.MaxPool2D()\n",
    "#                                                 tf.keras.layers.AveragePooling2D()\n",
    "#                                                 tf.keras.layers.Dense()\n",
    "                                                \n",
    "'''\n",
    "\n",
    "Conv2D에 ReLU 함수 사용, tanh 사용\n",
    "\n",
    "Dense에서는 이진이면 Sigmoid, 다중이면 SoftMax사용\n",
    "\n",
    "'''                                                "
   ]
  },
  {
   "cell_type": "markdown",
   "metadata": {},
   "source": [
    "## CNN 모델을 이용한 이미지 분류 실습"
   ]
  },
  {
   "cell_type": "code",
   "execution_count": 63,
   "metadata": {},
   "outputs": [],
   "source": [
    "# tf.keras에서 제공하는 MNIST dataset을 이용하여 손글씨 이미지를 분류하는 실습\n",
    "\n",
    "# 1) 손으로 쓰여진 0부터 9까지의 숫자 이미지들로 구성\n",
    "# 2) 흑백 이미지, 모양 = (28, 28)\n",
    "# 3) 전체 데이터 셋 = train_data 60,000개 + test_data 10,000개"
   ]
  },
  {
   "cell_type": "code",
   "execution_count": 64,
   "metadata": {},
   "outputs": [],
   "source": [
    "'''\n",
    "\n",
    "CNN 모델 구성\n",
    "\n",
    "입력 이미지 - Conv2D(ReLU) - MaxPooling 2D(ReLU) - Conv2D(은닉충-ReLU) - \n",
    "\n",
    "MaxPooling2D(Softmax) - Dense - 출력(예측)\n",
    "\n",
    "'''\n",
    "import tensorflow as tf\n",
    "\n",
    "# add() 함수를 이용하여 레이어 추가 -> model.add(매개변수 = Layer)\n",
    "# model.add(tf.keras.layers.Conv2D())\n",
    "# model.add(tf.keras.layers.MaxPool2D())\n",
    "# model.add(tf.keras.layers.flatten())\n",
    "# model.add(tf.keras.layers.Dense())"
   ]
  },
  {
   "cell_type": "code",
   "execution_count": 65,
   "metadata": {},
   "outputs": [
    {
     "data": {
      "text/plain": [
       "\"\\ntf.keras.layers.Conv2D(filters=32, kernel_size=(3,3), strides=1,\\n                       padding='same', activation='ReLU', input_shape(28,28,1))\\n\""
      ]
     },
     "execution_count": 65,
     "metadata": {},
     "output_type": "execute_result"
    }
   ],
   "source": [
    "# 함수 사용법 : Conv2D() 함수\n",
    "# 용도 : 컨볼루션 계층을 생성하는 함수\n",
    "\n",
    "'''\n",
    "tf.keras.layers.Conv2D(filters=32, kernel_size=(3,3), strides=1,\n",
    "                       padding='same', activation='ReLU', input_shape(28,28,1))\n",
    "'''\n",
    "\n",
    "# 2D의 의미는 필터가 두 방향으로 움직이니까 그 방향성 때문에 2D임.\n",
    "# Conv1D는 한방향으로 특성을 추출한다! <얘는 임베딩 벡터값에 대해서\n",
    "# 컨볼루션 특성을 추출, \n",
    "# Conv2D, MaxPool2D, Conv2D, Maxpool2D 두번 반복해서 쓸지 한번만해서 쓸지는 본인 재량                     "
   ]
  },
  {
   "cell_type": "code",
   "execution_count": 66,
   "metadata": {},
   "outputs": [
    {
     "data": {
      "text/plain": [
       "\"\\n\\nDense(units = 10, activation='softmax') /\\nDense(units = 1, activation='sigmoid'\\n\\n\""
      ]
     },
     "execution_count": 66,
     "metadata": {},
     "output_type": "execute_result"
    }
   ],
   "source": [
    "# Flatten() 함수\n",
    "# Feature맵을 1차원으로 변환하는 함수\n",
    "\n",
    "# tf.keras.layers.Flatten() --> LSTM의 마지막 형태랑 비슷함\n",
    "\n",
    "'''\n",
    "\n",
    "Dense(units = 10, activation='softmax') /\n",
    "Dense(units = 1, activation='sigmoid'\n",
    "\n",
    "'''\n",
    "\n",
    "# 출력유닛이 하나일때만 Sigmoid, 2개이상일 경우엔 Softmax로 DenseLayer에서 사용"
   ]
  },
  {
   "cell_type": "markdown",
   "metadata": {},
   "source": [
    "## Data Pre-Processing"
   ]
  },
  {
   "cell_type": "code",
   "execution_count": 67,
   "metadata": {},
   "outputs": [
    {
     "name": "stdout",
     "output_type": "stream",
     "text": [
      "Downloading data from https://storage.googleapis.com/tensorflow/tf-keras-datasets/mnist.npz\n",
      "11490434/11490434 [==============================] - 1s 0us/step\n"
     ]
    },
    {
     "data": {
      "text/plain": [
       "' 0과 255사이의 숫자를 0과 1 사이의 숫자로 변경시키는 행위 '"
      ]
     },
     "execution_count": 67,
     "metadata": {},
     "output_type": "execute_result"
    }
   ],
   "source": [
    "# MNIST dataset 생성하기\n",
    "\n",
    "tf.keras.datasets.mnist.load_data(path='mnist.npz')\n",
    "\n",
    "(X_train, y_train), (X_test, y_test) = tf.keras.datasets.mnist.load_data()\n",
    "\n",
    "# 실습 전 마지막 전처리\n",
    "'''\n",
    "\n",
    "이미지의 픽셀 값을 0과 1 사이로 변경\n",
    "1) 이미지 : 0~255 사이의 숫자로 존재\n",
    "2) 문제점 : 숫자 크기의 차이로 인해 학습 시 왜곡이 발생 ( Scaling = Normalizing)\n",
    "\n",
    "'''\n",
    "\n",
    "# 스케일링(노말라이징)이 필요함\n",
    "\n",
    "''' 0과 255사이의 숫자를 0과 1 사이의 숫자로 변경시키는 행위 '''"
   ]
  },
  {
   "cell_type": "code",
   "execution_count": 69,
   "metadata": {},
   "outputs": [
    {
     "name": "stdout",
     "output_type": "stream",
     "text": [
      "WARNING:tensorflow:From d:\\Anaconda\\Lib\\site-packages\\keras\\src\\backend.py:873: The name tf.get_default_graph is deprecated. Please use tf.compat.v1.get_default_graph instead.\n",
      "\n"
     ]
    },
    {
     "data": {
      "text/plain": [
       "<keras.src.layers.convolutional.conv2d.Conv2D at 0x18b5e0db790>"
      ]
     },
     "execution_count": 69,
     "metadata": {},
     "output_type": "execute_result"
    }
   ],
   "source": [
    "from tensorflow import keras\n",
    "\n",
    "# 커널의 크기는 파라미터(매개변수)임. 따라서 여러 가지 값을 시도해 봐야 함.\n",
    "# 보통 (3,3)이나 (5,5)를 많이 씀\n",
    "\n",
    "tf.keras.layers.Conv2D(filters=10, kernel_size=(3,3), activation='ReLU',\n",
    "                       padding='same', strides=1)"
   ]
  },
  {
   "cell_type": "markdown",
   "metadata": {},
   "source": [
    "## 패션 MNIST 데이터 불러오기"
   ]
  },
  {
   "cell_type": "code",
   "execution_count": null,
   "metadata": {},
   "outputs": [],
   "source": [
    "# 완전 연결 신경망에서는 입력 이미지를 밀집층에 연결하기 위해 일렬로 펼쳐야함.\n",
    "# 이 작업을 위해 np.reshape() 메서드를 사용하거나 Flatten 클래스를 사용함.\n",
    "# 합성곱 신경망은 2차원 이미지를 그대로 사용하기 때문에 일렬로 펼치지 않음.\n",
    "''' 일렬로 펼치는 경우? 질문사항 '''\n",
    "# 입력 이미지는 항상 깊이(채널)가 있어야 함\n",
    "# 흑백 이미지의 경우 채널 차원이 없는 2차원 배열이지만\n",
    "# COnv2D층을 사용하기 위해 마지막에 이 채널 자원을\n",
    "# 추가해야함. np.reshape() 메서드를 사용해 전체 배열 차원을 그대로 유지하면서\n",
    "# 마지막에 차원을 간단하게 추가할 수 있음."
   ]
  },
  {
   "cell_type": "code",
   "execution_count": 71,
   "metadata": {},
   "outputs": [
    {
     "name": "stdout",
     "output_type": "stream",
     "text": [
      "Downloading data from https://storage.googleapis.com/tensorflow/tf-keras-datasets/train-labels-idx1-ubyte.gz\n",
      "29515/29515 [==============================] - 0s 0us/step\n",
      "Downloading data from https://storage.googleapis.com/tensorflow/tf-keras-datasets/train-images-idx3-ubyte.gz\n",
      "26421880/26421880 [==============================] - 2s 0us/step\n",
      "Downloading data from https://storage.googleapis.com/tensorflow/tf-keras-datasets/t10k-labels-idx1-ubyte.gz\n",
      "5148/5148 [==============================] - 0s 0s/step\n",
      "Downloading data from https://storage.googleapis.com/tensorflow/tf-keras-datasets/t10k-images-idx3-ubyte.gz\n",
      "4422102/4422102 [==============================] - 2s 0us/step\n"
     ]
    }
   ],
   "source": [
    "from tensorflow import keras\n",
    "from sklearn.model_selection import train_test_split\n",
    "\n",
    "(train_input, train_target), (test_input, test_target) =\\\n",
    "    keras.datasets.fashion_mnist.load_data()\n",
    "    \n",
    "train_scaled = train_input.reshape(-1, 28, 28, 1) / 255.0\n",
    "\n",
    "train_scaled, val_scaled, train_target, val_target = train_test_split(\n",
    "    train_scaled, train_target, test_size=0.2, random_state=42)\n",
    "\n",
    "''' (48000, 28, 28, 1) 크기를 어떻게 알 수 있나..? (-1, 28, 28, 1)의 의미..\n",
    "\n"
   ]
  }
 ],
 "metadata": {
  "kernelspec": {
   "display_name": "rollbackTarget",
   "language": "python",
   "name": "conda"
  },
  "language_info": {
   "codemirror_mode": {
    "name": "ipython",
    "version": 3
   },
   "file_extension": ".py",
   "mimetype": "text/x-python",
   "name": "python",
   "nbconvert_exporter": "python",
   "pygments_lexer": "ipython3",
   "version": "3.11.5"
  }
 },
 "nbformat": 4,
 "nbformat_minor": 2
}
