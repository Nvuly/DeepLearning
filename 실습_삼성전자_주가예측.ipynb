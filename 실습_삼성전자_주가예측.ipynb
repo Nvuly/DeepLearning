{
 "cells": [
  {
   "cell_type": "markdown",
   "metadata": {},
   "source": [
    "## 금융 데이터 수집 라이브러리를 이용한 삼성 전자 주가 수집"
   ]
  },
  {
   "cell_type": "code",
   "execution_count": 22,
   "metadata": {},
   "outputs": [],
   "source": [
    "#https://github.com/FinanceData/FinanceDataReader\n",
    "\n",
    "import pandas as pd\n",
    "import numpy as np\n",
    "import FinanceDataReader"
   ]
  },
  {
   "cell_type": "code",
   "execution_count": 23,
   "metadata": {},
   "outputs": [
    {
     "name": "stdout",
     "output_type": "stream",
     "text": [
      "             Open   High    Low  Close    Volume    Change\n",
      "Date                                                      \n",
      "2000-01-04   6000   6110   5660   6110   1483967  0.148496\n",
      "2000-01-05   5800   6060   5520   5580   1493604 -0.086743\n",
      "2000-01-06   5750   5780   5580   5620   1087810  0.007168\n",
      "2000-01-07   5560   5670   5360   5540    806195 -0.014235\n",
      "2000-01-10   5600   5770   5580   5770    937615  0.041516\n",
      "...           ...    ...    ...    ...       ...       ...\n",
      "2024-01-15  73200  74000  73200  73900  13212339  0.010944\n",
      "2024-01-16  73500  73700  72500  72600  14760415 -0.017591\n",
      "2024-01-17  73100  73300  71000  71000  22683660 -0.022039\n",
      "2024-01-18  71600  72000  70700  71700  17853397  0.009859\n",
      "2024-01-19  73500  74200  73000  74000  12897551  0.032078\n",
      "\n",
      "[5937 rows x 6 columns]\n"
     ]
    }
   ],
   "source": [
    "# !pip install finance-datareader\n",
    "\n",
    "import FinanceDataReader as fdr\n",
    "\n",
    "df_sam = fdr.DataReader('005930', start='2000')\n",
    "\n",
    "print(df_sam)\n",
    "\n",
    "# 단기로 하는게 성능이 좋음.\n",
    "\n",
    "# 마지막 날은 아직 종가도 안나왔는데..01 19일자 벌써 종가가 나오다니 저걸 없애야함.\n",
    "\n",
    "# 종가를 맞추는게 목적."
   ]
  },
  {
   "cell_type": "code",
   "execution_count": 24,
   "metadata": {},
   "outputs": [
    {
     "name": "stdout",
     "output_type": "stream",
     "text": [
      "<class 'pandas.core.frame.DataFrame'>\n",
      "DatetimeIndex: 5937 entries, 2000-01-04 to 2024-01-19\n",
      "Data columns (total 6 columns):\n",
      " #   Column  Non-Null Count  Dtype  \n",
      "---  ------  --------------  -----  \n",
      " 0   Open    5937 non-null   int64  \n",
      " 1   High    5937 non-null   int64  \n",
      " 2   Low     5937 non-null   int64  \n",
      " 3   Close   5937 non-null   int64  \n",
      " 4   Volume  5937 non-null   int64  \n",
      " 5   Change  5937 non-null   float64\n",
      "dtypes: float64(1), int64(5)\n",
      "memory usage: 324.7 KB\n"
     ]
    }
   ],
   "source": [
    "df_sam.info()"
   ]
  },
  {
   "cell_type": "code",
   "execution_count": 25,
   "metadata": {},
   "outputs": [
    {
     "name": "stdout",
     "output_type": "stream",
     "text": [
      "             Open   High    Low  Close    Volume    Change\n",
      "Date                                                      \n",
      "2000-01-04   6000   6110   5660   6110   1483967  0.148496\n",
      "2000-01-05   5800   6060   5520   5580   1493604 -0.086743\n",
      "2000-01-06   5750   5780   5580   5620   1087810  0.007168\n",
      "2000-01-07   5560   5670   5360   5540    806195 -0.014235\n",
      "2000-01-10   5600   5770   5580   5770    937615  0.041516\n",
      "...           ...    ...    ...    ...       ...       ...\n",
      "2024-01-12  73000  74100  72800  73100  13038939 -0.001366\n",
      "2024-01-15  73200  74000  73200  73900  13212339  0.010944\n",
      "2024-01-16  73500  73700  72500  72600  14760415 -0.017591\n",
      "2024-01-17  73100  73300  71000  71000  22683660 -0.022039\n",
      "2024-01-18  71600  72000  70700  71700  17853397  0.009859\n",
      "\n",
      "[5936 rows x 6 columns]\n"
     ]
    }
   ],
   "source": [
    "### 마지막 행 제거\n",
    "\n",
    "df_sam = df_sam.drop(index=['2024-01-19'])\n",
    "print(df_sam)"
   ]
  },
  {
   "cell_type": "code",
   "execution_count": 26,
   "metadata": {},
   "outputs": [
    {
     "name": "stdout",
     "output_type": "stream",
     "text": [
      "             Open   High    Low  Close    Volume    Change\n",
      "Date                                                      \n",
      "2023-01-02  55500  56100  55200  55500  10031448  0.003617\n",
      "2023-01-03  55400  56000  54500  55400  13547030 -0.001802\n",
      "2023-01-04  55700  58000  55600  57800  20188071  0.043321\n",
      "2023-01-05  58200  58800  57600  58200  15682826  0.006920\n",
      "2023-01-06  58300  59400  57900  59000  17334989  0.013746\n",
      "...           ...    ...    ...    ...       ...       ...\n",
      "2023-12-21  74600  75000  74300  75000  13478766  0.002674\n",
      "2023-12-22  75800  76300  75400  75900  14515608  0.012000\n",
      "2023-12-26  76100  76700  75700  76600  13164909  0.009223\n",
      "2023-12-27  76700  78000  76500  78000  20651042  0.018277\n",
      "2023-12-28  77700  78500  77500  78500  17797536  0.006410\n",
      "\n",
      "[245 rows x 6 columns]\n"
     ]
    }
   ],
   "source": [
    "### 연도별 데이터 추출 기능 \n",
    "stock1= df_sam.loc['2023', :]\n",
    "\n",
    "print(stock1)"
   ]
  },
  {
   "cell_type": "code",
   "execution_count": 27,
   "metadata": {},
   "outputs": [
    {
     "name": "stdout",
     "output_type": "stream",
     "text": [
      "             Open   High    Low  Close    Volume    Change\n",
      "Date                                                      \n",
      "2023-01-02  55500  56100  55200  55500  10031448  0.003617\n",
      "2023-01-03  55400  56000  54500  55400  13547030 -0.001802\n",
      "2023-01-04  55700  58000  55600  57800  20188071  0.043321\n",
      "2023-01-05  58200  58800  57600  58200  15682826  0.006920\n",
      "2023-01-06  58300  59400  57900  59000  17334989  0.013746\n",
      "...           ...    ...    ...    ...       ...       ...\n",
      "2023-06-26  71700  72500  71500  72400  10541901  0.011173\n",
      "2023-06-27  72500  72600  72000  72600   9442997  0.002762\n",
      "2023-06-28  72600  72700  72000  72700   8783093  0.001377\n",
      "2023-06-29  73100  73400  72400  72400  12229967 -0.004127\n",
      "2023-06-30  72500  72700  71700  72200  11694765 -0.002762\n",
      "\n",
      "[123 rows x 6 columns]\n"
     ]
    }
   ],
   "source": [
    "### 연도별 + 월별 데이터 추출 가능\n",
    "stock2 = df_sam.loc['2023-01':'2023-06', :]\n",
    "\n",
    "print(stock2)"
   ]
  },
  {
   "cell_type": "code",
   "execution_count": 28,
   "metadata": {},
   "outputs": [
    {
     "name": "stdout",
     "output_type": "stream",
     "text": [
      "DatetimeIndex(['2000-01-04', '2000-01-05', '2000-01-06', '2000-01-07',\n",
      "               '2000-01-10', '2000-01-11', '2000-01-12', '2000-01-13',\n",
      "               '2000-01-14', '2000-01-17',\n",
      "               ...\n",
      "               '2024-01-05', '2024-01-08', '2024-01-09', '2024-01-10',\n",
      "               '2024-01-11', '2024-01-12', '2024-01-15', '2024-01-16',\n",
      "               '2024-01-17', '2024-01-18'],\n",
      "              dtype='datetime64[ns]', name='Date', length=5936, freq=None)\n"
     ]
    }
   ],
   "source": [
    "### 데이터프레임으로부터 인덱스 추출\n",
    "idx = df_sam.index\n",
    "print(idx)"
   ]
  },
  {
   "cell_type": "code",
   "execution_count": 29,
   "metadata": {},
   "outputs": [
    {
     "name": "stdout",
     "output_type": "stream",
     "text": [
      "데이터프레임 인덱스의 연도정보 : \n",
      "Index([2000, 2000, 2000, 2000, 2000, 2000, 2000, 2000, 2000, 2000,\n",
      "       ...\n",
      "       2024, 2024, 2024, 2024, 2024, 2024, 2024, 2024, 2024, 2024],\n",
      "      dtype='int32', name='Date', length=5936)\n"
     ]
    }
   ],
   "source": [
    "## 년도 정보 추출\n",
    "year = idx.year\n",
    "print(f'데이터프레임 인덱스의 연도정보 : \\n{year}')"
   ]
  },
  {
   "cell_type": "code",
   "execution_count": 30,
   "metadata": {},
   "outputs": [
    {
     "name": "stdout",
     "output_type": "stream",
     "text": [
      "데이터프레임 인덱스의 월별정보 : \n",
      "Index([1, 1, 1, 1, 1, 1, 1, 1, 1, 1,\n",
      "       ...\n",
      "       1, 1, 1, 1, 1, 1, 1, 1, 1, 1],\n",
      "      dtype='int32', name='Date', length=5936)\n"
     ]
    }
   ],
   "source": [
    "## 월별 정보 추출\n",
    "months = idx.month\n",
    "print(f'데이터프레임 인덱스의 월별정보 : \\n{months}')"
   ]
  },
  {
   "cell_type": "code",
   "execution_count": 31,
   "metadata": {},
   "outputs": [
    {
     "name": "stdout",
     "output_type": "stream",
     "text": [
      "데이터프레임 인덱스의 일별정보 : \n",
      "Index([ 4,  5,  6,  7, 10, 11, 12, 13, 14, 17,\n",
      "       ...\n",
      "        5,  8,  9, 10, 11, 12, 15, 16, 17, 18],\n",
      "      dtype='int32', name='Date', length=5936)\n"
     ]
    }
   ],
   "source": [
    "## 일별 정보 추출\n",
    "days = idx.day\n",
    "print(f'데이터프레임 인덱스의 일별정보 : \\n{days}')"
   ]
  },
  {
   "cell_type": "markdown",
   "metadata": {},
   "source": [
    "## 데이터 전처리 및 시각화"
   ]
  },
  {
   "cell_type": "code",
   "execution_count": 34,
   "metadata": {},
   "outputs": [
    {
     "data": {
      "image/png": "[encoded data removed]",
      "text/plain": [
       "<Figure size 1200x600 with 1 Axes>"
      ]
     },
     "metadata": {},
     "output_type": "display_data"
    }
   ],
   "source": [
    "### seaborn lineplot을 이용, 전체 주가 시각화\n",
    "\n",
    "# 시각화에 필요한 라이브러리 임폴트\n",
    "\n",
    "import matplotlib.pyplot as plt\n",
    "import seaborn as sns\n",
    "\n",
    "# 시각화\n",
    "plt.figure(figsize=(12,6))\n",
    "sns.lineplot(data=df_sam, x=df_sam.index, y='Close')\n",
    "plt.xlabel('Time')\n",
    "plt.ylabel('Price')\n",
    "plt.show()"
   ]
  },
  {
   "cell_type": "code",
   "execution_count": 45,
   "metadata": {},
   "outputs": [
    {
     "name": "stdout",
     "output_type": "stream",
     "text": [
      "             Open   High    Low    Volume\n",
      "Date                                     \n",
      "2000-01-04   6000   6110   5660   1483967\n",
      "2000-01-05   5800   6060   5520   1493604\n",
      "2000-01-06   5750   5780   5580   1087810\n",
      "2000-01-07   5560   5670   5360    806195\n",
      "2000-01-10   5600   5770   5580    937615\n",
      "...           ...    ...    ...       ...\n",
      "2024-01-12  73000  74100  72800  13038939\n",
      "2024-01-15  73200  74000  73200  13212339\n",
      "2024-01-16  73500  73700  72500  14760415\n",
      "2024-01-17  73100  73300  71000  22683660\n",
      "2024-01-18  71600  72000  70700  17853397\n",
      "\n",
      "[5936 rows x 4 columns]\n",
      "********************************************************************************\n",
      "            Close\n",
      "Date             \n",
      "2000-01-04   6110\n",
      "2000-01-05   5580\n",
      "2000-01-06   5620\n",
      "2000-01-07   5540\n",
      "2000-01-10   5770\n",
      "...           ...\n",
      "2024-01-12  73100\n",
      "2024-01-15  73900\n",
      "2024-01-16  72600\n",
      "2024-01-17  71000\n",
      "2024-01-18  71700\n",
      "\n",
      "[5936 rows x 1 columns]\n"
     ]
    }
   ],
   "source": [
    "### X / y 데이터 생성\n",
    "X = df_sam.drop(columns=['Close', 'Change'])\n",
    "y = df_sam.loc[:,['Close']]\n",
    "\n",
    "print(X)\n",
    "print('*'*80)\n",
    "print(y)"
   ]
  },
  {
   "cell_type": "code",
   "execution_count": null,
   "metadata": {},
   "outputs": [],
   "source": [
    "# min-max scaling으로 0과 1사이로 만들어주면 손실이 날 경우에\n",
    "\n",
    "# 종가가 10,000원인데 예측이 9,000원이다. 차이가 1,000원.\n",
    "\n",
    "# 우리는 손실을 mim squared error가 더 커져버린다. 백만단위..\n",
    "\n",
    "# 평균제곱오차를 쓰기 때문에 min-max scaling을 쓴다.\n",
    "\n",
    "# 0.1제곱은 0.01 오히려 오차라 더 작아진다. fit_transform을 쓸 것이다"
   ]
  },
  {
   "cell_type": "code",
   "execution_count": 46,
   "metadata": {},
   "outputs": [
    {
     "name": "stdout",
     "output_type": "stream",
     "text": [
      "X_scaled의 모양 : \n",
      "(5936, 4)\n",
      "********************************************************************************\n",
      "X_scaled 확인 : \n",
      "[[0.06644518 0.06311983 0.06324022 0.01643262]\n",
      " [0.06423034 0.06260331 0.06167598 0.01653933]\n",
      " [0.06367663 0.05971074 0.06234637 0.0120458 ]\n",
      " ...\n",
      " [0.81395349 0.76136364 0.81005587 0.16344856]\n",
      " [0.80952381 0.7572314  0.79329609 0.25118614]\n",
      " [0.79291251 0.74380165 0.78994413 0.19769851]]\n",
      "y_scaled의 모양 : \n",
      "(5936, 1)\n",
      "********************************************************************************\n",
      "y_scaled의 확인 : \n",
      "[[0.03829161]\n",
      " [0.0322873 ]\n",
      " [0.03274046]\n",
      " ...\n",
      " [0.79154866]\n",
      " [0.77342245]\n",
      " [0.78135267]]\n"
     ]
    }
   ],
   "source": [
    "from sklearn.preprocessing import MinMaxScaler\n",
    "\n",
    "\n",
    "### Normalization(scaling) 진행 ( 누구다 나 0과 1사이로 재조정 강제로 맞추는 일종의 규제를 가하는 개념 )\n",
    "\n",
    "'''\n",
    "# sklearn 패키지에 있는 MinMaxScaler를 활용하여 전체 학습 데이터를 Normalization한다.\n",
    "# MinMaxScaler : (X - MIN) / ( MAX - MIN )\n",
    "'''\n",
    "\n",
    "#==Tfid Vectorizer 한글 영어 굳이 나눠놨다. 변수가 겹치지 않게 해주는 것보다 훨씬 더 중요하다\n",
    "# 최소 최대가 다르기 때문에 MinMinScaler는 항상 따로 해줘야 한다.\n",
    "# x와 y도 변형할 것.\n",
    "\n",
    "scaler_x = MinMaxScaler()\n",
    "scaler_y = MinMaxScaler()\n",
    "\n",
    "# scaling 실행\n",
    "X_scaled = scaler_x.fit_transform(X)\n",
    "y_scaled = scaler_y.fit_transform(y)\n",
    "\n",
    "# y가 1차원이니 2차원으로 변경해야함.\n",
    "\n",
    "\n",
    "print(f'X_scaled의 모양 : \\n{X_scaled.shape}')\n",
    "print('*'*80)\n",
    "print(f'X_scaled 확인 : \\n{X_scaled}')\n",
    "\n",
    "print(f'y_scaled의 모양 : \\n{y_scaled.shape}')\n",
    "print('*'*80)\n",
    "print(f'y_scaled의 확인 : \\n{y_scaled}')\n",
    "\n",
    "\n",
    "\n"
   ]
  },
  {
   "cell_type": "code",
   "execution_count": 56,
   "metadata": {},
   "outputs": [],
   "source": [
    "### 시계열 분석에 적합한 데이터를 만들어주는 함수 정의\n",
    "\n",
    "'''\n",
    "1. window_size(time step, 시간 간격) 정의\n",
    "   (1) 얼마 동안(기간)의 주가 데이터에 기반하여 다음날 종가를 예측할 것인가를 정하는 parameter\n",
    "   (2) 과거 10일을 기반으로 내일 데이터를 예측한다라고 가정했을 때 window_size(시간 간격) = 10이 된다\n",
    "   (3) 목표 : 과거 10일을 기준으로 그 다음날의 '종가'를 예측할 수 있는 데이터 생성\n",
    "2.. 순차적으로 10일 동안의 데이터를 하나의 데이터로 묶고,\n",
    "3. 이에 맞는 label(예측 데이터) 생성\n",
    "'''\n",
    "\n",
    "# 우리한테 단어는 특정 날짜의 데이터이다. 특정 날짜 몇개를 잡아서 데이터로 만들것인가..\n",
    "\n",
    "def make_dataset(X, y, window_size=10):\n",
    "    X_data_total = []\n",
    "    y_data_total = []\n",
    "\n",
    "    for start in np.arange(len(X) - window_size):\n",
    "        \n",
    "        # X는 데이터의 숫자 5936, - window_size=10, 5926\n",
    "        # np.arange(5925,0,1) 스텝만큼 한값 덜 간 값 0부터 5925까지.\n",
    "        #  0       9\n",
    "        #   1         10\n",
    "        #    2          11\n",
    "        #    5925           5934\n",
    "        # 뒤에 딱 한 개의 5935가 있는 것이다. 0부터 5935해야 5936개\n",
    "        \n",
    "        stop = start + window_size\n",
    "        X_data = X[start:stop, :]\n",
    "        X_data_total.append(X_data)\n",
    "        # 슬라이싱 0 10 --> 0 - 9 \n",
    "        y_data = y[stop]\n",
    "        y_data_total.append(y_data)\n",
    "        # 인덱싱 10을 넣으면 포함됨.\n",
    "    return np.array(X_data_total), np.array(y_data_total)\n",
    "    \n",
    "        "
   ]
  },
  {
   "cell_type": "code",
   "execution_count": 57,
   "metadata": {},
   "outputs": [
    {
     "name": "stdout",
     "output_type": "stream",
     "text": [
      "X_data의 모양 : \n",
      "(5926, 10, 4)\n",
      "********************************************************************************\n",
      "y_data의 모양 : \n",
      "(5926, 1)\n"
     ]
    }
   ],
   "source": [
    "### 시계열 분석에 적합한 데이터 생성 \n",
    "\n",
    "# windows_size=10인 X, y 데이터 생성\n",
    "\n",
    "X_data, y_data = make_dataset(X_scaled, y_scaled, window_size=10)\n",
    "\n",
    "print(f'X_data의 모양 : \\n{X_data.shape}')\n",
    "\n",
    "print('*'*80)\n",
    "\n",
    "print(f'y_data의 모양 : \\n{y_data.shape}')"
   ]
  },
  {
   "cell_type": "code",
   "execution_count": 60,
   "metadata": {},
   "outputs": [
    {
     "data": {
      "text/plain": [
       "'\\n# TEST_SIZE 설정\\n   (1) TEST_SIZE = 200으로 설정\\n   (2) TEST_SIZE = 200은 가장 최근 200일의 데이터로 모델이 주가를 예측\\n   (3) 학습은 과거부터 200일 이전의 데이터를 학습\\n'"
      ]
     },
     "execution_count": 60,
     "metadata": {},
     "output_type": "execute_result"
    }
   ],
   "source": [
    "### 시계열 분석에 적합한 데이터를 만들어주는 함수 정의\n",
    "\n",
    "'''\n",
    "1. window_size(time step, 시간 간격) 정의\n",
    "   (1) 얼마 동안(기간)의 주가 데이터에 기반하여 다음날 종가를 예측할 것인가를 정하는 parameter\n",
    "   (2) 과거 10일을 기반으로 내일 데이터를 예측한다라고 가정했을 때 window_size(시간 간격) = 10이 된다\n",
    "   (3) 목표 : 과거 10일을 기준으로 그 다음날의 '종가'를 예측할 수 있는 데이터 생성\n",
    "2.. 순차적으로 10일 동안의 데이터를 하나의 데이터로 묶고,\n",
    "3. 이에 맞는 label(예측 데이터) 생성\n",
    "'''\n",
    "\n",
    "def make_dataset(X, y, window_size=10):\n",
    "    X_data_total = []\n",
    "    y_data_total = []\n",
    "    for start in np.arange(len(X) - window_size):\n",
    "        stop = start + window_size\n",
    "        X_data = X[start:stop, :]\n",
    "        X_data_total.append(X_data)\n",
    "        y_data = y[stop]\n",
    "        y_data_total.append(y_data)\n",
    "    return np.array(X_data_total), np.array(y_data_total)\n",
    "\n",
    "#5교육실 휴먼 2:53 PM\n"
   ]
  },
  {
   "cell_type": "code",
   "execution_count": 68,
   "metadata": {},
   "outputs": [
    {
     "name": "stdout",
     "output_type": "stream",
     "text": [
      "학습용 X 데이터의 모양 : (4580, 10, 4)\n",
      "********************************************************************************\n",
      "학습용 y 데이터의 모양 : (4580, 1)\n",
      "********************************************************************************\n",
      "검증용 X 데이터의 모양 : (1146, 10, 4)\n",
      "********************************************************************************\n",
      "검증용 y 데이터의 모양 : (1146, 1)\n",
      "평가용 X 데이터의 모양 : (200, 10, 4)\n",
      "********************************************************************************\n",
      "평가용 y 데이터의 모양 : (200, 1)\n"
     ]
    }
   ],
   "source": [
    "### 학습용 / 검증용 / 평가용 데이터 생성\n",
    "\n",
    "'''\n",
    "# TEST_SIZE 설정\n",
    "   (1) TEST_SIZE = 200으로 설정\n",
    "   (2) TEST_SIZE = 200은 가장 최근 200일의 데이터로 모델이 주가를 예측\n",
    "   (3) 학습은 과거부터 200일 이전의 데이터를 학습\n",
    "'''\n",
    "\n",
    "## 학습용 / 평가용 데이터로 분할\n",
    "\n",
    "# 평가용 데이터의 크기 설정\n",
    "TEST_SIZE = 200\n",
    "\n",
    "# 학습용 데이터 생성\n",
    "X_train = X_data[:-200, :, :] #리버스인덱스, 끝번호에서 계산하면 어려울게없다! \n",
    "y_train = y_data[:-TEST_SIZE:]\n",
    "\n",
    "\n",
    "# 평가용 데이터 생성\n",
    "X_test = X_data[-TEST_SIZE:, :, :]\n",
    "y_test = y_data[-TEST_SIZE:]\n",
    "\n",
    "\n",
    "\n",
    "## 학습용 데이터를 학습용과 검증용으로 분할\n",
    "\n",
    "# 필요한 함수 임폴트\n",
    "from sklearn.model_selection import train_test_split\n",
    "\n",
    "X_train, X_val, y_train, y_val = train_test_split(X_train,\n",
    "                                                  y_train,\n",
    "                                                  test_size=0.2,\n",
    "                                                  random_state=0)\n",
    "# stratify=y_train 분류할때만...\n",
    "                 \n",
    "# 결과 확인하기\n",
    "print(f'학습용 X 데이터의 모양 : {X_train.shape}')\n",
    "print('*'*80)\n",
    "print(f'학습용 y 데이터의 모양 : {y_train.shape}')\n",
    "print('*'*80)\n",
    "\n",
    "print(f'검증용 X 데이터의 모양 : {X_val.shape}')\n",
    "print('*'*80)\n",
    "print(f'검증용 y 데이터의 모양 : {y_val.shape}')\n",
    "\n",
    "print(f'평가용 X 데이터의 모양 : {X_test.shape}')\n",
    "print('*'*80)\n",
    "print(f'평가용 y 데이터의 모양 : {y_test.shape}')"
   ]
  },
  {
   "cell_type": "markdown",
   "metadata": {},
   "source": [
    "## 주가 예측 모델"
   ]
  },
  {
   "cell_type": "code",
   "execution_count": 69,
   "metadata": {},
   "outputs": [
    {
     "name": "stdout",
     "output_type": "stream",
     "text": [
      "WARNING:tensorflow:From c:\\Users\\human\\anaconda3\\Lib\\site-packages\\keras\\src\\losses.py:2976: The name tf.losses.sparse_softmax_cross_entropy is deprecated. Please use tf.compat.v1.losses.sparse_softmax_cross_entropy instead.\n",
      "\n",
      "WARNING:tensorflow:From c:\\Users\\human\\anaconda3\\Lib\\site-packages\\keras\\src\\backend.py:873: The name tf.get_default_graph is deprecated. Please use tf.compat.v1.get_default_graph instead.\n",
      "\n",
      "Model: \"sequential\"\n",
      "_________________________________________________________________\n",
      " Layer (type)                Output Shape              Param #   \n",
      "=================================================================\n",
      " lstm (LSTM)                 (None, 10, 64)            17664     \n",
      "                                                                 \n",
      " lstm_1 (LSTM)               (None, 32)                12416     \n",
      "                                                                 \n",
      " dense (Dense)               (None, 1)                 33        \n",
      "                                                                 \n",
      "=================================================================\n",
      "Total params: 30113 (117.63 KB)\n",
      "Trainable params: 30113 (117.63 KB)\n",
      "Non-trainable params: 0 (0.00 Byte)\n",
      "_________________________________________________________________\n"
     ]
    }
   ],
   "source": [
    "'''\n",
    "모델 정의, feature 데이터의 복잡도가 그렇게 크지 않고 학습해야할 데이터도 10,000개 이하 수준이기 때문에\n",
    "아주 단순한 모델로도 충분히 좋은 성능을 기대해 볼 수 있습니다. 오히려 너무 복잡한 모델이 과적합을\n",
    "유발하고, 학습도 잘 되지 못하는 결과를 낳을 수 있다.\n",
    "'''\n",
    "\n",
    "\n",
    "# 필요한 라이브러리 임폴트\n",
    "import tensorflow as tf\n",
    "import random\n",
    "\n",
    "\n",
    "# 랜덤 시드 설정\n",
    "random.seed(0)\n",
    "tf.random.set_seed(0)\n",
    "np.random.seed(0)\n",
    "initializer = tf.keras.initializers.GlorotUniform(seed=0)\n",
    "\n",
    "\n",
    "# 모델 정의\n",
    "model = tf.keras.Sequential()\n",
    "model.add(tf.keras.layers.LSTM(units=64,\n",
    "                               activation='tanh',\n",
    "                               return_sequences=True, # return_sequences를 넣어야 두번 넣었을 때 의미가 생긴다!\n",
    "                               kernel_initializer=initializer,\n",
    "                               input_shape=X_train[0].shape))\n",
    "model.add(tf.keras.layers.LSTM(units=32,\n",
    "                               activation='tanh',\n",
    "                               kernel_initializer=initializer))\n",
    "model.add(tf.keras.layers.Dense(units=1,\n",
    "                                kernel_initializer=initializer))\n",
    "\n",
    "\n",
    "# 모델 컴파일\n",
    "optimizer = tf.keras.optimizers.Adam(learning_rate=0.0001)\n",
    "model.compile(loss='mean_squared_error', optimizer=optimizer, metrics=['mse'])\n",
    "\n",
    "\n",
    "# 모델 확인\n",
    "model.summary()\n"
   ]
  }
 ],
 "metadata": {
  "kernelspec": {
   "display_name": "NvulyTarget",
   "language": "python",
   "name": "conda"
  },
  "language_info": {
   "codemirror_mode": {
    "name": "ipython",
    "version": 3
   },
   "file_extension": ".py",
   "mimetype": "text/x-python",
   "name": "python",
   "nbconvert_exporter": "python",
   "pygments_lexer": "ipython3",
   "version": "3.11.5"
  }
 },
 "nbformat": 4,
 "nbformat_minor": 2
}
