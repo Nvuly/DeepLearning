{
 "cells": [
  {
   "cell_type": "code",
   "execution_count": 2,
   "metadata": {},
   "outputs": [
    {
     "name": "stdout",
     "output_type": "stream",
     "text": [
      "WARNING:tensorflow:From c:\\Users\\human\\anaconda3\\Lib\\site-packages\\keras\\src\\losses.py:2976: The name tf.losses.sparse_softmax_cross_entropy is deprecated. Please use tf.compat.v1.losses.sparse_softmax_cross_entropy instead.\n",
      "\n"
     ]
    }
   ],
   "source": [
    "import pandas as pd\n",
    "import numpy as np\n",
    "import tensorflow as tf\n",
    "import matplotlib.pyplot as plt\n",
    "import seaborn as sns\n",
    "from sklearn.model_selection import train_test_split"
   ]
  },
  {
   "cell_type": "code",
   "execution_count": 3,
   "metadata": {},
   "outputs": [
    {
     "name": "stdout",
     "output_type": "stream",
     "text": [
      "학습용 X 데이터의 자료형 : \n",
      "<class 'numpy.ndarray'>\n",
      "학습용 Y 데이터의 모양 : \n",
      "<class 'numpy.ndarray'>\n",
      "********************************************************************************\n",
      "학습용 X 데이터의 모양 : \n",
      "(60000, 28, 28)\n",
      "********************************************************************************\n",
      "학습용 Y 데이터의 모양 : \n",
      "(60000,)\n",
      "평가용 X 데이터의 모양 : \n",
      "(10000, 28, 28)\n"
     ]
    }
   ],
   "source": [
    "# 검증용은 valid_split 비율을 정했다면 요번엔 별도로 뽑아볼 것이다. 학습용에서 검증용을 뽑을 것. \n",
    "\n",
    "### mnist dataset 다운로드\n",
    "\n",
    "(X_train, y_train), (X_test, y_test) = tf.keras.datasets.mnist.load_data()\n",
    "\n",
    "# 생성된 데이터 확인\n",
    "print(f'학습용 X 데이터의 자료형 : \\n{type(X_train)}')\n",
    "\n",
    "print(f'학습용 Y 데이터의 모양 : \\n{type(y_train)}')\n",
    "\n",
    "print('*'*80)\n",
    "\n",
    "print(f'학습용 X 데이터의 모양 : \\n{X_train.shape}')\n",
    "\n",
    "print('*'*80)\n",
    "\n",
    "print(f'학습용 Y 데이터의 모양 : \\n{y_train.shape}')\n",
    "\n",
    "print(f'평가용 X 데이터의 모양 : \\n{X_test.shape}')"
   ]
  },
  {
   "cell_type": "markdown",
   "metadata": {},
   "source": [
    "## Data Pre-Processing"
   ]
  },
  {
   "cell_type": "code",
   "execution_count": 4,
   "metadata": {},
   "outputs": [
    {
     "name": "stdout",
     "output_type": "stream",
     "text": [
      "차원 변환 후 학습용 데이터의 모양 : \n",
      "(60000, 28, 28, 1)\n",
      "********************************************************************************\n",
      "차원 변환 후 평가용 데이터의 모양 : \n",
      "(10000, 28, 28, 1)\n"
     ]
    }
   ],
   "source": [
    "## 2차원 배열 --> 3차원 배열\n",
    "\n",
    "'''\n",
    "1. reshape((60000, 28, 28, 1)) 함수를 사용\n",
    "2. 손글씨 이미지의 모양 변경 : 2차원(28, 28) --> 3차원(28, 28, 1)\n",
    "\n",
    "'''\n",
    "\n",
    "# 자연어할 때 LSTM(RNN)의 입력을 보면 데이터수는 batch_size를 줘야 결정이 되는데\n",
    "\n",
    "# 32가 되던 64가 되던 채워지는거고 이제 나머지가 2차원으로...\n",
    "\n",
    "# ( N, 476, 16 ) 이거에 비해서 4차원으로 들어간다... Conv2D의 형식 자체가 공식문서 참조했을 때 4차원임.\n",
    "\n",
    "X_train = X_train.reshape((60000, 28, 28, 1)) # 전체데이터의 수, 이미지 하나당 28, 28, --> 28, 28, 1로 바꾼다\n",
    "\n",
    "X_test = X_test.reshape((10000, 28, 28, 1)) # 차원 하나를 늘린다고 변하지 않는다, 일종의 트릭\n",
    "\n",
    "# 결과 확인\n",
    "print(f'차원 변환 후 학습용 데이터의 모양 : \\n{X_train.shape}')\n",
    "\n",
    "print('*'*80)\n",
    "\n",
    "print(f'차원 변환 후 평가용 데이터의 모양 : \\n{X_test.shape}')"
   ]
  },
  {
   "cell_type": "code",
   "execution_count": 5,
   "metadata": {},
   "outputs": [
    {
     "name": "stdout",
     "output_type": "stream",
     "text": [
      "학습용 X 데이터의 첫번째 이미지 픽셀의 최댓값 : 1.0, 최솟값 : 0.0\n",
      "********************************************************************************\n",
      "평가용 X 데이터의 첫번째 이미지 픽셀의 최댓값 : 1.0, 최솟값 : 0.0\n"
     ]
    }
   ],
   "source": [
    "### Scaling(normalizing) : 픽셀의 범위를 0과 1사이로 변환 \n",
    "\n",
    "# 넘파이 배열이어서 255로 나눠서 reshape.\n",
    "\n",
    "X_train = X_train / 255\n",
    "X_test = X_test / 255\n",
    "\n",
    "# 결과 확인\n",
    "print(f'학습용 X 데이터의 첫번째 이미지 픽셀의 최댓값 : {np.max(X_train[0, :, :, :])}, 최솟값 : {np.min(X_train[0, :, :, :])}')\n",
    "\n",
    "print('*'*80)\n",
    "\n",
    "print(f'평가용 X 데이터의 첫번째 이미지 픽셀의 최댓값 : {np.max(X_test[0, :, :, :])}, 최솟값 : {np.min(X_test[0, :, :, :])}')\n",
    "\n",
    "# 검증용을 반드시 만들 필요는 없다.\n",
    "\n",
    "# 전처리 끝."
   ]
  },
  {
   "cell_type": "markdown",
   "metadata": {},
   "source": [
    "## 학습용 / 검증용 데이터 생성"
   ]
  },
  {
   "cell_type": "code",
   "execution_count": null,
   "metadata": {},
   "outputs": [],
   "source": [
    "'''\n",
    "\n",
    "1. train_test_split() 함수를 사용\n",
    "2. 학습용 데이터의 일부를 검증용 데이터로 분할\n",
    "\n",
    "'''\n"
   ]
  }
 ],
 "metadata": {
  "kernelspec": {
   "display_name": "NvulyTarget",
   "language": "python",
   "name": "conda"
  },
  "language_info": {
   "codemirror_mode": {
    "name": "ipython",
    "version": 3
   },
   "file_extension": ".py",
   "mimetype": "text/x-python",
   "name": "python",
   "nbconvert_exporter": "python",
   "pygments_lexer": "ipython3",
   "version": "3.11.5"
  }
 },
 "nbformat": 4,
 "nbformat_minor": 2
}
