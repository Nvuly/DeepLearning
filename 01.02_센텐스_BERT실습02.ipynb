{
 "cells": [
  {
   "cell_type": "markdown",
   "metadata": {},
   "source": [
    "## SentenceBERT + 머신러닝"
   ]
  },
  {
   "cell_type": "markdown",
   "metadata": {},
   "source": [
    "### SentenceBERT 모델을 이용하여 임베딩 행렬 생성"
   ]
  },
  {
   "cell_type": "code",
   "execution_count": 1,
   "metadata": {},
   "outputs": [
    {
     "name": "stdout",
     "output_type": "stream",
     "text": [
      "WARNING:tensorflow:From c:\\Users\\human\\anaconda3\\Lib\\site-packages\\keras\\src\\losses.py:2976: The name tf.losses.sparse_softmax_cross_entropy is deprecated. Please use tf.compat.v1.losses.sparse_softmax_cross_entropy instead.\n",
      "\n"
     ]
    }
   ],
   "source": [
    "### 필요한 라이브러리 설치 및 import\n",
    "import numpy as np\n",
    "import pandas as pd\n",
    "import numpy as np\n",
    "import pandas as pd\n",
    "import requests\n",
    "from bs4 import BeautifulSoup\n",
    "import matplotlib.pyplot as plt\n",
    "import seaborn as sns\n",
    "from sklearn.model_selection import GridSearchCV\n",
    "from sklearn.model_selection import train_test_split\n",
    "from sklearn.metrics import accuracy_score, f1_score, precision_score, recall_score\n",
    "from sklearn.metrics.pairwise import linear_kernel\n",
    "from sklearn.tree import DecisionTreeClassifier\n",
    "from sklearn.linear_model import LinearRegression\n",
    "from lightgbm import LGBMClassifier\n",
    "# ㅡㅡㅡㅡㅡㅡㅡㅡㅡㅡㅡㅡㅡㅡㅡㅡㅡㅡㅡㅡㅡㅡㅡㅡㅡㅡㅡㅡㅡㅡㅡㅡㅡㅡㅡㅡㅡㅡㅡㅡㅡㅡㅡㅡㅡㅡㅡ\n",
    "import tensorflow as tf\n",
    "from transformers import pipeline, set_seed, BertTokenizer, TFBertForSequenceClassification\n",
    "# ㅡㅡㅡㅡㅡㅡㅡㅡㅡㅡㅡㅡㅡㅡㅡㅡㅡㅡㅡㅡㅡㅡㅡㅡㅡㅡㅡㅡㅡㅡㅡㅡㅡㅡㅡㅡㅡㅡㅡㅡㅡㅡㅡㅡㅡㅡㅡ\n",
    "import re\n",
    "import nltk \n",
    "from nltk.corpus import stopwords\n",
    "# ㅡㅡㅡㅡㅡㅡㅡㅡㅡㅡㅡㅡㅡㅡㅡㅡㅡㅡㅡㅡㅡㅡㅡㅡㅡㅡㅡㅡㅡㅡㅡㅡㅡㅡㅡㅡㅡㅡㅡㅡㅡㅡㅡㅡㅡㅡㅡ\n",
    "from sentence_transformers import SentenceTransformer"
   ]
  },
  {
   "cell_type": "code",
   "execution_count": 2,
   "metadata": {},
   "outputs": [
    {
     "name": "stdout",
     "output_type": "stream",
     "text": [
      "학습용 데이터 확인 : \n",
      "              id                                           document  label\n",
      "0        9976970                                아 더빙.. 진짜 짜증나네요 목소리      0\n",
      "1        3819312                  흠...포스터보고 초딩영화줄....오버연기조차 가볍지 않구나      1\n",
      "2       10265843                                  너무재밓었다그래서보는것을추천한다      0\n",
      "3        9045019                      교도소 이야기구먼 ..솔직히 재미는 없다..평점 조정      0\n",
      "4        6483659  사이몬페그의 익살스런 연기가 돋보였던 영화!스파이더맨에서 늙어보이기만 했던 커스틴 ...      1\n",
      "...          ...                                                ...    ...\n",
      "149995   6222902                                인간이 문제지.. 소는 뭔죄인가..      0\n",
      "149996   8549745                                      평점이 너무 낮아서...      1\n",
      "149997   9311800                    이게 뭐요? 한국인은 거들먹거리고 필리핀 혼혈은 착하다?      0\n",
      "149998   2376369                        청춘 영화의 최고봉.방황과 우울했던 날들의 자화상      1\n",
      "149999   9619869                           한국 영화 최초로 수간하는 내용이 담긴 영화      0\n",
      "\n",
      "[150000 rows x 3 columns]\n",
      "********************************************************************************\n",
      "평가용 데이터 확인 : \n",
      "            id                                           document  label\n",
      "0      6270596                                                굳 ㅋ      1\n",
      "1      9274899                               GDNTOPCLASSINTHECLUB      0\n",
      "2      8544678             뭐야 이 평점들은.... 나쁘진 않지만 10점 짜리는 더더욱 아니잖아      0\n",
      "3      6825595                   지루하지는 않은데 완전 막장임... 돈주고 보기에는....      0\n",
      "4      6723715  3D만 아니었어도 별 다섯 개 줬을텐데.. 왜 3D로 나와서 제 심기를 불편하게 하죠??      0\n",
      "...        ...                                                ...    ...\n",
      "49995  4608761          오랜만에 평점 로긴했네ㅋㅋ 킹왕짱 쌈뽕한 영화를 만났습니다 강렬하게 육쾌함      1\n",
      "49996  5308387       의지 박약들이나 하는거다 탈영은 일단 주인공 김대희 닮았고 이등병 찐따 OOOO      0\n",
      "49997  9072549                 그림도 좋고 완성도도 높았지만... 보는 내내 불안하게 만든다      0\n",
      "49998  5802125     절대 봐서는 안 될 영화.. 재미도 없고 기분만 잡치고.. 한 세트장에서 다 해먹네      0\n",
      "49999  6070594                                         마무리는 또 왜이래      0\n",
      "\n",
      "[50000 rows x 3 columns]\n",
      "********************************************************************************\n",
      "              id                                           document  label\n",
      "0        9976970                                아 더빙.. 진짜 짜증나네요 목소리      0\n",
      "1        3819312                  흠...포스터보고 초딩영화줄....오버연기조차 가볍지 않구나      1\n",
      "2       10265843                                  너무재밓었다그래서보는것을추천한다      0\n",
      "3        9045019                      교도소 이야기구먼 ..솔직히 재미는 없다..평점 조정      0\n",
      "4        6483659  사이몬페그의 익살스런 연기가 돋보였던 영화!스파이더맨에서 늙어보이기만 했던 커스틴 ...      1\n",
      "...          ...                                                ...    ...\n",
      "149990   6222902                                인간이 문제지.. 소는 뭔죄인가..      0\n",
      "149991   8549745                                      평점이 너무 낮아서...      1\n",
      "149992   9311800                    이게 뭐요? 한국인은 거들먹거리고 필리핀 혼혈은 착하다?      0\n",
      "149993   2376369                        청춘 영화의 최고봉.방황과 우울했던 날들의 자화상      1\n",
      "149994   9619869                           한국 영화 최초로 수간하는 내용이 담긴 영화      0\n",
      "\n",
      "[149995 rows x 3 columns]\n",
      "********************************************************************************\n",
      "            id                                           document  label\n",
      "0      6270596                                                굳 ㅋ      1\n",
      "1      9274899                               GDNTOPCLASSINTHECLUB      0\n",
      "2      8544678             뭐야 이 평점들은.... 나쁘진 않지만 10점 짜리는 더더욱 아니잖아      0\n",
      "3      6825595                   지루하지는 않은데 완전 막장임... 돈주고 보기에는....      0\n",
      "4      6723715  3D만 아니었어도 별 다섯 개 줬을텐데.. 왜 3D로 나와서 제 심기를 불편하게 하죠??      0\n",
      "...        ...                                                ...    ...\n",
      "49992  4608761          오랜만에 평점 로긴했네ㅋㅋ 킹왕짱 쌈뽕한 영화를 만났습니다 강렬하게 육쾌함      1\n",
      "49993  5308387       의지 박약들이나 하는거다 탈영은 일단 주인공 김대희 닮았고 이등병 찐따 OOOO      0\n",
      "49994  9072549                 그림도 좋고 완성도도 높았지만... 보는 내내 불안하게 만든다      0\n",
      "49995  5802125     절대 봐서는 안 될 영화.. 재미도 없고 기분만 잡치고.. 한 세트장에서 다 해먹네      0\n",
      "49996  6070594                                         마무리는 또 왜이래      0\n",
      "\n",
      "[49997 rows x 3 columns]\n"
     ]
    }
   ],
   "source": [
    "### 학습용 데이터 --> DataFrame 생성, 누락 데이터 제거\n",
    "\n",
    "# Data Load\n",
    "\n",
    "file_path = ('D:\\Code\\DataSets/ratings_train.txt')\n",
    "df_train = pd.read_csv(file_path,sep='\\t')\n",
    "\n",
    "print(f'학습용 데이터 확인 : \\n{df_train}')\n",
    "\n",
    "print('*'*80)\n",
    "\n",
    "file_path = 'D:\\Code\\DataSets/ratings_test.txt' \n",
    "df_test = pd.read_csv(file_path, sep='\\t')\n",
    "\n",
    "print(f'평가용 데이터 확인 : \\n{df_test}')\n",
    "\n",
    "# 각 컬럼별 누락 데이터의 수 확인\n",
    "num_nulls = df_train.isnull().sum()\n",
    "\n",
    "df_train.dropna(inplace=True)\n",
    "\n",
    "num_nulls2 = df_test.isnull().sum()\n",
    "\n",
    "df_test.dropna(inplace=True)\n",
    "\n",
    "df_train.reset_index(drop=True, inplace=True)\n",
    "\n",
    "df_test.reset_index(drop=True, inplace=True)\n",
    "\n",
    "print('*'*80)\n",
    "\n",
    "\n",
    "print(df_train)\n",
    "\n",
    "print('*'*80)\n",
    "\n",
    "print(df_test)"
   ]
  },
  {
   "cell_type": "code",
   "execution_count": 7,
   "metadata": {},
   "outputs": [
    {
     "name": "stdout",
     "output_type": "stream",
     "text": [
      "              id                                           document  label\n",
      "0        9976970                                아 더빙   진짜 짜증나네요 목소리      0\n",
      "1        3819312                  흠   포스터보고 초딩영화줄    오버연기조차 가볍지 않구나      1\n",
      "2       10265843                                  너무재밓었다그래서보는것을추천한다      0\n",
      "3        9045019                      교도소 이야기구먼   솔직히 재미는 없다  평점 조정      0\n",
      "4        6483659  사이몬페그의 익살스런 연기가 돋보였던 영화 스파이더맨에서 늙어보이기만 했던 커스틴 ...      1\n",
      "...          ...                                                ...    ...\n",
      "149990   6222902                                인간이 문제지   소는 뭔죄인가        0\n",
      "149991   8549745                                      평점이 너무 낮아서         1\n",
      "149992   9311800                    이게 뭐요  한국인은 거들먹거리고 필리핀 혼혈은 착하다       0\n",
      "149993   2376369                        청춘 영화의 최고봉 방황과 우울했던 날들의 자화상      1\n",
      "149994   9619869                           한국 영화 최초로 수간하는 내용이 담긴 영화      0\n",
      "\n",
      "[149995 rows x 3 columns]\n"
     ]
    }
   ],
   "source": [
    "# 정규표현식 re를 쓰지않고 re.sub을 쓰지 않고 다르게 해보자!\n",
    "\n",
    "# pattern 생성 : 한글 글자. 자음, 모음, 공백을 제외한 나머지 제거\n",
    "\n",
    "import re\n",
    "pattern = '[^가-힣ㄱ-ㅎㅏ-ㅣ ]'\n",
    "\n",
    "# Series.str.replace(pattern, repl)\n",
    "#df_train.loc[:, 'document'] = df_train.loc[:,'document'].str.replace(pattern, ' ')\n",
    "df_train.loc[:, 'document'] = df_train.loc[:,'document'].apply(lambda x : re.sub(pattern, ' ', x))\n",
    "\n",
    "print(df_train)"
   ]
  },
  {
   "cell_type": "code",
   "execution_count": 9,
   "metadata": {},
   "outputs": [
    {
     "name": "stdout",
     "output_type": "stream",
     "text": [
      "            id                                           document  label\n",
      "0      6270596                                아 더빙   진짜 짜증나네요 목소리      1\n",
      "1      9274899                  흠   포스터보고 초딩영화줄    오버연기조차 가볍지 않구나      0\n",
      "2      8544678                                  너무재밓었다그래서보는것을추천한다      0\n",
      "3      6825595                      교도소 이야기구먼   솔직히 재미는 없다  평점 조정      0\n",
      "4      6723715  사이몬페그의 익살스런 연기가 돋보였던 영화 스파이더맨에서 늙어보이기만 했던 커스틴 ...      0\n",
      "...        ...                                                ...    ...\n",
      "49992  4608761                    보고 있는 것 자체가 괴로웠다  평가자체가 무의미한 영화      1\n",
      "49993  5308387    공포 영화인데   효민 몸매만 기억에 남는다  도대체 이 연출력을 어찌할거냐    쩝      0\n",
      "49994  9072549   이게 소위 스페인식             이란 건가    물론    아동 판타지 ...      0\n",
      "49995  5802125                                   보지마셈 저 믿으세요 보지마셈      0\n",
      "49996  6070594                                               최고졸작      0\n",
      "\n",
      "[49997 rows x 3 columns]\n"
     ]
    }
   ],
   "source": [
    "\n",
    "pattern = '[^가-힣ㄱ-ㅎㅏ-ㅣ ]'\n",
    "\n",
    "#df_test.loc[:, 'document'] = df_train.loc[:,'document'].apply(lambda x : re.sub(pattern, ' ' , x))\n",
    "df_test.loc[:, 'document'] = df_test.loc[:,'document'].str.replace(pattern, ' ')\n",
    "\n",
    "print(df_test)"
   ]
  },
  {
   "cell_type": "code",
   "execution_count": 11,
   "metadata": {},
   "outputs": [],
   "source": [
    "### 사전 학습된 한국어 SentenceBERT 모델 생성(다운로드)\n",
    "model_name='ddobokki/klue-roberta-base-nli-sts'\n",
    "model = SentenceTransformer(model_name)"
   ]
  },
  {
   "cell_type": "code",
   "execution_count": 17,
   "metadata": {},
   "outputs": [
    {
     "name": "stdout",
     "output_type": "stream",
     "text": [
      "['아 더빙   진짜 짜증나네요 목소리' '흠   포스터보고 초딩영화줄    오버연기조차 가볍지 않구나'\n",
      " '너무재밓었다그래서보는것을추천한다' ... '이게 뭐요  한국인은 거들먹거리고 필리핀 혼혈은 착하다 '\n",
      " '청춘 영화의 최고봉 방황과 우울했던 날들의 자화상' '한국 영화 최초로 수간하는 내용이 담긴 영화']\n"
     ]
    }
   ],
   "source": [
    "### 학습용 데이터(document) --> 문장 임베딩 행렬 생성 및 결과 저장하기\n",
    "\n",
    "#\n",
    "#def sentence_enc(sentence):\n",
    "#    return model.encode(sentence)\n",
    "\n",
    "# 너무 간단하니 lamba:x로 가능하지않을까? 사용자정의 함수를 굳이 하지 않는다?\n",
    "#\n",
    "#df_train.loc[:, 'document'].apply(lambda x:model.encode(x))\n",
    "\n",
    "# sentences 생성\n",
    "sentences = df_train.loc[:,'document'].values\n",
    "print(sentences)\n",
    "\n",
    "# model.encode(sentences)\n",
    "train_embeddings = model.encode(sentences)\n",
    "\n",
    "print('*'*80)\n",
    "\n",
    "# 결과 확인하기\n",
    "print(f'학습용 전체 리뷰에 대한 임베딩 행렬의 모양 : {train_embeddings.shape}')"
   ]
  },
  {
   "cell_type": "code",
   "execution_count": null,
   "metadata": {},
   "outputs": [],
   "source": [
    "### 학습용 데이터에 대한 임베딩 결과 저장하기\n",
    "\n",
    "train_embeddings_path = 'D:\\Code\\Deep Learning/train_embeddings.npy ' \n",
    "\n",
    "# 결과 저장하기\n",
    "np.save(train_embeddings_path, train_embeddings) #앞에는 경로 뒤에는 데이터"
   ]
  }
 ],
 "metadata": {
  "kernelspec": {
   "display_name": "rollbackTarget",
   "language": "python",
   "name": "conda"
  },
  "language_info": {
   "codemirror_mode": {
    "name": "ipython",
    "version": 3
   },
   "file_extension": ".py",
   "mimetype": "text/x-python",
   "name": "python",
   "nbconvert_exporter": "python",
   "pygments_lexer": "ipython3",
   "version": "3.11.5"
  }
 },
 "nbformat": 4,
 "nbformat_minor": 2
}
