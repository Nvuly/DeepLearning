{
 "cells": [
  {
   "cell_type": "markdown",
   "metadata": {},
   "source": [
    "# Data Generation"
   ]
  },
  {
   "cell_type": "code",
   "execution_count": 1,
   "metadata": {},
   "outputs": [
    {
     "name": "stdout",
     "output_type": "stream",
     "text": [
      "WARNING:tensorflow:From c:\\Users\\human\\anaconda3\\Lib\\site-packages\\keras\\src\\losses.py:2976: The name tf.losses.sparse_softmax_cross_entropy is deprecated. Please use tf.compat.v1.losses.sparse_softmax_cross_entropy instead.\n",
      "\n"
     ]
    }
   ],
   "source": [
    "import pandas as pd\n",
    "import numpy as np\n",
    "import tensorflow as tf\n",
    "from tensorflow import keras\n",
    "import matplotlib.pyplot as plt\n",
    "import seaborn as sns\n",
    "from sklearn.model_selection import train_test_split"
   ]
  },
  {
   "cell_type": "code",
   "execution_count": 2,
   "metadata": {},
   "outputs": [
    {
     "name": "stdout",
     "output_type": "stream",
     "text": [
      "학습용 X 데이터의 자료형 : \n",
      "<class 'numpy.ndarray'>\n",
      "학습용 Y 데이터의 모양 : \n",
      "<class 'numpy.ndarray'>\n",
      "********************************************************************************\n",
      "학습용 X 데이터의 모양 : \n",
      "(60000, 28, 28)\n",
      "********************************************************************************\n",
      "학습용 Y 데이터의 모양 : \n",
      "(60000,)\n",
      "평가용 X 데이터의 모양 : \n",
      "(10000, 28, 28)\n"
     ]
    }
   ],
   "source": [
    "# 검증용은 valid_split 비율을 정했다면 요번에는 별도로 뽑아볼 것이다.학습용에서 검증용을 뽑을 것.\n",
    "\n",
    "### mnist dataset 다운로드\n",
    "\n",
    "(X_train, y_train), (X_test, y_test) = tf.keras.datasets.mnist.load_data()\n",
    "\n",
    "# 생성된 데이터 확인\n",
    "print(f'학습용 X 데이터의 자료형 : \\n{type(X_train)}')\n",
    "\n",
    "print(f'학습용 Y 데이터의 모양 : \\n{type(y_train)}')\n",
    "\n",
    "print('*'*80)\n",
    "\n",
    "print(f'학습용 X 데이터의 모양 : \\n{X_train.shape}')\n",
    "\n",
    "print('*'*80)\n",
    "\n",
    "print(f'학습용 Y 데이터의 모양 : \\n{y_train.shape}')\n",
    "\n",
    "print(f'평가용 X 데이터의 모양 : \\n{X_test.shape}')"
   ]
  },
  {
   "cell_type": "markdown",
   "metadata": {},
   "source": [
    "## Data Pre-Processing"
   ]
  },
  {
   "cell_type": "code",
   "execution_count": 3,
   "metadata": {},
   "outputs": [
    {
     "name": "stdout",
     "output_type": "stream",
     "text": [
      "차원 변환 후 학습용 데이터의 모양 : \n",
      "(60000, 28, 28, 1)\n",
      "********************************************************************************\n",
      "차원 변환 후 평가용 데이터의 모양 : \n",
      "(10000, 28, 28, 1)\n"
     ]
    }
   ],
   "source": [
    "## 2차원 배열 --> 3차운 배열\n",
    "\n",
    "'''\n",
    "1. reshape((60000, 28, 28, 1)) 함수를 사용\n",
    "2. 손글씨 이미지의 모양 변경 : 2차원(28, 28) --> 3차원(28, 28, 1)\n",
    "\n",
    "'''\n",
    "\n",
    "# 자연어할 때 LSTM(RNN)의 입력을 보면 데이터수는 batch_size를 줘야 결정이 되는데\n",
    "\n",
    "# 32가 되던 64가 되던 채워지는거고 이제 나머지가 2차원으로 ...\n",
    "\n",
    "# ( N, 476, 16 ) 이거에 비해서 4차원으로 들어간다...COnv2D의 형식자체가 공식문서 참조했을 때 4차원이다.\n",
    "\n",
    "X_train = X_train.reshape((60000,28,28,1)) # 전체데이터의 수, 이미지 하나당 28,28 --> 28,28,1로 바꾼다\n",
    "\n",
    "X_test = X_test.reshape((10000, 28, 28, 1)) # 차원 하나를 늘린다고 변하지 않는다, 일종의 트릭\n",
    "\n",
    "# 결과 확인\n",
    "print(f'차원 변환 후 학습용 데이터의 모양 : \\n{X_train.shape}')\n",
    "\n",
    "print('*'*80)\n",
    "\n",
    "print(f'차원 변환 후 평가용 데이터의 모양 : \\n{X_test.shape}')"
   ]
  },
  {
   "cell_type": "code",
   "execution_count": 4,
   "metadata": {},
   "outputs": [
    {
     "name": "stdout",
     "output_type": "stream",
     "text": [
      "학습용 X 데이터의 첫번째 이미지 픽셀의 최댓값 : 1.0, 최솟값 : 0.0\n",
      "********************************************************************************\n",
      "평가용 X 데이터의 첫번째 이미지 픽셀의 최댓값 : 1.0, 최솟값 : 0.0\n"
     ]
    }
   ],
   "source": [
    "### Scaling(normalizing) : 픽셀의 범위를 0과 1사이로 변환\n",
    "\n",
    "# 넘파이 배열이어서 255로 나눠서 reshape.\n",
    "\n",
    "X_train = X_train / 255\n",
    "X_test = X_test / 255\n",
    "\n",
    "# 결과 확인\n",
    "print(f'학습용 X 데이터의 첫번째 이미지 픽셀의 최댓값 : {np.max(X_train[0, :, :, :])}, 최솟값 : {np.min(X_train[0, :, :, :])}')\n",
    "\n",
    "print('*'*80)\n",
    "\n",
    "print(f'평가용 X 데이터의 첫번째 이미지 픽셀의 최댓값 : {np.max(X_test[0,:,:,:])}, 최솟값 : {np.min(X_test[0, :, :, :])}')\n",
    "\n",
    "# 검증용을 반드시 만들 필요는 없다.\n",
    "\n",
    "# 전처리 끝.\n"
   ]
  },
  {
   "cell_type": "markdown",
   "metadata": {},
   "source": [
    "## 학습용 / 검증용 데이터 생성"
   ]
  },
  {
   "cell_type": "code",
   "execution_count": 5,
   "metadata": {},
   "outputs": [
    {
     "name": "stdout",
     "output_type": "stream",
     "text": [
      "학습용 X 데이터의 모양 : (48000, 28, 28, 1)\n",
      "********************************************************************************\n",
      "검증용 X 데이터의 모양 : (12000, 28, 28, 1)\n"
     ]
    }
   ],
   "source": [
    "'''\n",
    "1. train_test_split() 함수를 사용\n",
    "2. 학습용 데이터의 일부를 검증용 데이터로 분할\n",
    "'''\n",
    "\n",
    "X_train, X_val, y_train, y_val = train_test_split(X_train, y_train, test_size=0.2, #validation_split=0.2 쓰면되는데.. 이렇게 쓰는 사람도 있다.\n",
    "                 random_state=0)\n",
    "\n",
    "# 결과 확인\n",
    "\n",
    "print(f'학습용 X 데이터의 모양 : {X_train.shape}')\n",
    "\n",
    "print('*'*80)\n",
    "\n",
    "print(f'검증용 X 데이터의 모양 : {X_val.shape}')"
   ]
  },
  {
   "cell_type": "markdown",
   "metadata": {},
   "source": [
    "## CNN Model Generation"
   ]
  },
  {
   "cell_type": "code",
   "execution_count": 22,
   "metadata": {},
   "outputs": [],
   "source": [
    "### 모델 생성도 2가지 방법이 있음.\n",
    "# 1. 사용자 정의 함수\n",
    "    ### 모델 생성함수 정의\n",
    "\n",
    "def create_model():\n",
    "    # 모델 구조 정의하기\n",
    "    model = tf.keras.Sequential()\n",
    "    model.add(tf.keras.layers.Conv2D(filters=32, kernel_size=(3,3), strides=1, padding='same', activation='relu', input_shape=(28,28,1)))\n",
    "    # 첫번째 입력받는 Conv2D는 지정해서 오류를 내지않게 막아준다.\n",
    "    model.add(tf.keras.layers.MaxPool2D((2,2)))\n",
    "    model.add(tf.keras.layers.Conv2D(filters=64, kernel_size=(3,3), strides=1, padding='same', activation='relu'))\n",
    "    model.add(tf.keras.layers.MaxPool2D((2,2)))\n",
    "    model.add(tf.keras.layers.Flatten())\n",
    "    model.add(tf.keras.layers.Dense(units=10, activation='softmax'))\n",
    "    return model\n",
    "    \n",
    "    \n",
    "# 1 모델 구조 정의\n",
    "# 2 컴파일(compile) 어떤 손실함수로 최적화할거며.. 정해져야 한다\n",
    "\n",
    "# 책에서는 Dense Layer를 두번 사용함. Dense Layer와 Dense Layer사이에 dropout을 넣는다. Dense layer를 여러번 쓸 경우.."
   ]
  },
  {
   "cell_type": "code",
   "execution_count": 24,
   "metadata": {},
   "outputs": [
    {
     "name": "stdout",
     "output_type": "stream",
     "text": [
      "Model: \"sequential_2\"\n",
      "_________________________________________________________________\n",
      " Layer (type)                Output Shape              Param #   \n",
      "=================================================================\n",
      " conv2d_4 (Conv2D)           (None, 28, 28, 32)        320       \n",
      "                                                                 \n",
      " max_pooling2d_4 (MaxPoolin  (None, 14, 14, 32)        0         \n",
      " g2D)                                                            \n",
      "                                                                 \n",
      " conv2d_5 (Conv2D)           (None, 14, 14, 64)        18496     \n",
      "                                                                 \n",
      " max_pooling2d_5 (MaxPoolin  (None, 7, 7, 64)          0         \n",
      " g2D)                                                            \n",
      "                                                                 \n",
      " flatten_2 (Flatten)         (None, 3136)              0         \n",
      "                                                                 \n",
      " dense_1 (Dense)             (None, 10)                31370     \n",
      "                                                                 \n",
      "=================================================================\n",
      "Total params: 50186 (196.04 KB)\n",
      "Trainable params: 50186 (196.04 KB)\n",
      "Non-trainable params: 0 (0.00 Byte)\n",
      "_________________________________________________________________\n"
     ]
    }
   ],
   "source": [
    "### 모델의 구조 확인\n",
    "\n",
    "# 모델 생성 함수 호출, 모델 생성\n",
    "\n",
    "cnn = create_model()\n",
    "\n",
    "# model.summary() 함수 사용\n",
    "\n",
    "cnn.summary()\n",
    "\n",
    "# 18496은 어떻게 나오느냐..\n",
    "\n",
    "# 32*9+1*64=18496\n",
    "\n",
    "# +1은 y절편. 289필터가 64개가 있다.. 가중치의 숫자가 18496.\n",
    "\n",
    "# flatten -> Dense도 3136+1(절편)*10행 = 31370\n",
    "\n",
    "# 시드 설정을 안해서 값은 개개인마다 다 다를 것이다."
   ]
  },
  {
   "cell_type": "code",
   "execution_count": 25,
   "metadata": {},
   "outputs": [
    {
     "name": "stdout",
     "output_type": "stream",
     "text": [
      "[<tf.Variable 'conv2d_4/kernel:0' shape=(3, 3, 1, 32) dtype=float32, numpy=\n",
      "array([[[[-0.02101378,  0.03563501,  0.06802256,  0.09617639,\n",
      "           0.1190549 , -0.00667632, -0.02931949,  0.06735454,\n",
      "          -0.11344266,  0.10949601,  0.0891511 , -0.01056045,\n",
      "           0.0171802 ,  0.06149739,  0.08646162, -0.05486046,\n",
      "           0.016342  , -0.05513955,  0.02700354,  0.13322137,\n",
      "           0.00984542, -0.03536907,  0.08356622, -0.10435364,\n",
      "          -0.05229993, -0.07283851,  0.03925659, -0.12271369,\n",
      "           0.01519115,  0.02441135, -0.08899148, -0.04572988]],\n",
      "\n",
      "        [[-0.00056148,  0.06025885, -0.08993992, -0.12342258,\n",
      "           0.03244354, -0.13958582,  0.0181462 ,  0.03439698,\n",
      "          -0.09560609, -0.13161618,  0.00765559, -0.10010098,\n",
      "           0.11433949, -0.01659274,  0.04828122,  0.05115274,\n",
      "          -0.1082987 , -0.10172004,  0.06978427, -0.06056024,\n",
      "          -0.09230994,  0.01716194,  0.0738394 ,  0.12227981,\n",
      "          -0.12362157, -0.05983302, -0.13127232,  0.13918613,\n",
      "          -0.04276288,  0.05520855, -0.12983038, -0.05949384]],\n",
      "\n",
      "        [[ 0.10165636,  0.08906038,  0.11319183, -0.03763694,\n",
      "          -0.05733491, -0.04728321, -0.1118921 ,  0.10629934,\n",
      "           0.10096541, -0.05940557, -0.12413242,  0.04386824,\n",
      "           0.00737928,  0.09723899,  0.06487949, -0.1303107 ,\n",
      "          -0.06180302,  0.09952506, -0.11648903,  0.02885172,\n",
      "           0.01602116, -0.03942183, -0.08950721,  0.08499438,\n",
      "           0.13208391, -0.08871378,  0.00383727,  0.13157804,\n",
      "           0.13228063,  0.10324405,  0.08367656, -0.04125801]]],\n",
      "\n",
      "\n",
      "       [[[ 0.03965314,  0.11558627,  0.06942734,  0.10638224,\n",
      "           0.10665512, -0.06710684, -0.01035237,  0.04250117,\n",
      "          -0.03803068,  0.13907163,  0.09676385,  0.03442663,\n",
      "           0.13879345, -0.13374528,  0.03225952, -0.12199538,\n",
      "           0.07283488, -0.09447405, -0.01992294, -0.00639679,\n",
      "          -0.08254577,  0.00179203,  0.07485084,  0.07921387,\n",
      "          -0.10718106, -0.04247948, -0.00017317,  0.1238132 ,\n",
      "           0.05137986, -0.03891016, -0.13890631,  0.01675712]],\n",
      "\n",
      "        [[-0.07580765,  0.08295079,  0.07340758,  0.08924347,\n",
      "           0.09710144, -0.01764575, -0.11795788,  0.07001047,\n",
      "          -0.07773065,  0.06816208,  0.11133616, -0.0981885 ,\n",
      "           0.0581053 ,  0.04022424,  0.07616509, -0.12572123,\n",
      "          -0.1024616 , -0.03525639,  0.07040919,  0.03008953,\n",
      "           0.02160552, -0.07209305,  0.07022707,  0.06537828,\n",
      "          -0.10041274,  0.08751498,  0.02356732,  0.06413153,\n",
      "          -0.09285684, -0.02188817,  0.12068503,  0.03331406]],\n",
      "\n",
      "        [[ 0.07649189,  0.07761635, -0.06070985, -0.11520714,\n",
      "           0.05832398,  0.11064522,  0.0980044 , -0.05621914,\n",
      "           0.13920249, -0.01881781, -0.03947659, -0.05926737,\n",
      "           0.091323  ,  0.0593282 ,  0.03975593, -0.00797938,\n",
      "          -0.11372375, -0.09164967,  0.11690624, -0.06486898,\n",
      "           0.02076267, -0.02894741,  0.11359833,  0.06219846,\n",
      "           0.04748999,  0.07079008,  0.02103536, -0.06756397,\n",
      "           0.07893884, -0.09571809, -0.0289691 , -0.00294366]]],\n",
      "\n",
      "\n",
      "       [[[-0.01617819, -0.02000963, -0.12266591, -0.10238291,\n",
      "           0.11446737, -0.01150401, -0.00114322, -0.14183195,\n",
      "          -0.02550974,  0.07155092, -0.00441471, -0.05406319,\n",
      "           0.05082996,  0.11153103,  0.01000465, -0.09893729,\n",
      "          -0.03042626,  0.0956205 , -0.05313224,  0.01057445,\n",
      "          -0.02896914,  0.13392697, -0.05136318,  0.12751804,\n",
      "           0.094881  ,  0.08020735,  0.06543653,  0.11321451,\n",
      "          -0.00640349, -0.0340108 ,  0.0787202 , -0.11926708]],\n",
      "\n",
      "        [[-0.10365009,  0.05370177,  0.13743968, -0.01938386,\n",
      "           0.05097124,  0.12098186,  0.01812841, -0.11405775,\n",
      "          -0.07281122,  0.00078113, -0.08818388, -0.05998164,\n",
      "           0.05668004,  0.12419035,  0.0638791 , -0.10797094,\n",
      "           0.00378685,  0.11276539, -0.07208522, -0.13017307,\n",
      "           0.06771098, -0.00679733,  0.01654787,  0.02016619,\n",
      "          -0.1292655 , -0.11962123, -0.1180183 ,  0.05230877,\n",
      "          -0.0617238 ,  0.09740622, -0.1166605 ,  0.08219036]],\n",
      "\n",
      "        [[ 0.02447723, -0.1417781 , -0.01935703, -0.01584449,\n",
      "          -0.01181455,  0.04164006, -0.12242433,  0.0202931 ,\n",
      "          -0.00045727, -0.06249537,  0.06808093,  0.02069469,\n",
      "           0.02725105, -0.03080685, -0.01048152,  0.11494623,\n",
      "           0.00843388,  0.13398473,  0.00874428,  0.13231857,\n",
      "          -0.02818485, -0.07014842, -0.12167003,  0.06558472,\n",
      "           0.05257632,  0.07615866, -0.11702906,  0.14120062,\n",
      "          -0.11580681, -0.06509501,  0.04224792,  0.04257965]]]],\n",
      "      dtype=float32)>, <tf.Variable 'conv2d_4/bias:0' shape=(32,) dtype=float32, numpy=\n",
      "array([0., 0., 0., 0., 0., 0., 0., 0., 0., 0., 0., 0., 0., 0., 0., 0., 0.,\n",
      "       0., 0., 0., 0., 0., 0., 0., 0., 0., 0., 0., 0., 0., 0., 0.],\n",
      "      dtype=float32)>, <tf.Variable 'conv2d_5/kernel:0' shape=(3, 3, 32, 64) dtype=float32, numpy=\n",
      "array([[[[-0.06442104,  0.05220201, -0.07942973, ...,  0.05138131,\n",
      "           0.03744107,  0.01974776],\n",
      "         [-0.05528194, -0.07640456, -0.01784744, ...,  0.05918469,\n",
      "          -0.03180691,  0.06794002],\n",
      "         [ 0.06993429, -0.06986654,  0.07352579, ..., -0.04452155,\n",
      "          -0.04464452,  0.0649812 ],\n",
      "         ...,\n",
      "         [ 0.05766936,  0.04773297,  0.03647763, ...,  0.07926252,\n",
      "          -0.03149955,  0.00139014],\n",
      "         [ 0.06265292,  0.05603067,  0.07897118, ...,  0.0107855 ,\n",
      "          -0.02886828, -0.0634443 ],\n",
      "         [-0.03203249, -0.07839092,  0.01045259, ..., -0.07265594,\n",
      "          -0.01088271, -0.03319637]],\n",
      "\n",
      "        [[ 0.02954748,  0.01594976,  0.06185063, ...,  0.03483173,\n",
      "          -0.0795904 , -0.03160081],\n",
      "         [-0.00067544,  0.02665313, -0.07037163, ...,  0.00735867,\n",
      "          -0.05991688,  0.01208041],\n",
      "         [-0.00410274,  0.03947288, -0.00343591, ...,  0.05407634,\n",
      "          -0.04451063, -0.00206389],\n",
      "         ...,\n",
      "         [ 0.04507735, -0.04481516, -0.04832731, ..., -0.00637505,\n",
      "           0.07731811,  0.05802067],\n",
      "         [ 0.06170104, -0.02581159, -0.02455074, ...,  0.02828821,\n",
      "           0.06214718,  0.01617011],\n",
      "         [-0.05327994, -0.03333787, -0.00881287, ..., -0.02428315,\n",
      "          -0.03498314, -0.06067362]],\n",
      "\n",
      "        [[-0.05054826,  0.01790885, -0.00477678, ..., -0.00298613,\n",
      "           0.01018647,  0.01621225],\n",
      "         [ 0.06645808,  0.06509892,  0.04549728, ..., -0.0294323 ,\n",
      "          -0.07878785,  0.06712572],\n",
      "         [ 0.08319534,  0.05762329, -0.04046287, ...,  0.03894826,\n",
      "           0.0547258 ,  0.05461372],\n",
      "         ...,\n",
      "         [ 0.00940984,  0.05224562, -0.04202084, ..., -0.07550848,\n",
      "          -0.00469098,  0.08105845],\n",
      "         [-0.01882812,  0.04552279,  0.00856463, ...,  0.00311524,\n",
      "           0.07005461,  0.03705791],\n",
      "         [-0.07958164,  0.03340926, -0.01373353, ...,  0.05072851,\n",
      "          -0.04474753, -0.05060009]]],\n",
      "\n",
      "\n",
      "       [[[-0.04827182, -0.08244552, -0.00044056, ...,  0.07916846,\n",
      "           0.04411259,  0.03804026],\n",
      "         [ 0.0011211 ,  0.05482418,  0.06069712, ..., -0.06017148,\n",
      "           0.03452581,  0.04558382],\n",
      "         [-0.07734196,  0.00339852, -0.02539859, ...,  0.03344395,\n",
      "           0.02314536, -0.01196025],\n",
      "         ...,\n",
      "         [ 0.02071921,  0.00149292, -0.01300021, ..., -0.06936266,\n",
      "           0.01667529, -0.01610303],\n",
      "         [ 0.08300891,  0.03674897,  0.06186969, ...,  0.07910312,\n",
      "           0.02864263,  0.02804836],\n",
      "         [ 0.03694548, -0.01115147, -0.0118134 , ..., -0.04848941,\n",
      "           0.07214916, -0.07241124]],\n",
      "\n",
      "        [[ 0.05943564, -0.07957213, -0.04113849, ..., -0.08148631,\n",
      "          -0.00319916, -0.00982815],\n",
      "         [ 0.01313242,  0.07507088,  0.06654849, ...,  0.01599153,\n",
      "          -0.0169609 ,  0.04592725],\n",
      "         [-0.07105742, -0.05644755,  0.0288941 , ..., -0.06512098,\n",
      "           0.03318131, -0.066631  ],\n",
      "         ...,\n",
      "         [ 0.06036449,  0.03167514, -0.08036415, ...,  0.02241814,\n",
      "          -0.02035973,  0.01205132],\n",
      "         [ 0.01832017, -0.05990911,  0.0385088 , ..., -0.05132391,\n",
      "          -0.07282208, -0.01132069],\n",
      "         [-0.04206449,  0.01996841, -0.04230174, ..., -0.07001229,\n",
      "           0.05419195, -0.0828168 ]],\n",
      "\n",
      "        [[-0.04371323,  0.06138066,  0.01647308, ...,  0.00145908,\n",
      "          -0.05871256, -0.00592047],\n",
      "         [ 0.08031938, -0.05470238, -0.01090571, ..., -0.0185376 ,\n",
      "          -0.05020662, -0.06243984],\n",
      "         [-0.00684621, -0.03305503, -0.03497628, ...,  0.00291902,\n",
      "          -0.02191305,  0.04890711],\n",
      "         ...,\n",
      "         [-0.04896498,  0.06695303, -0.01712537, ...,  0.00487206,\n",
      "          -0.00953496,  0.00313381],\n",
      "         [-0.01045891, -0.01470993, -0.00062797, ..., -0.02788866,\n",
      "          -0.07567205,  0.06640977],\n",
      "         [ 0.03661927, -0.02623066,  0.00613666, ...,  0.0010732 ,\n",
      "           0.0149524 ,  0.02441432]]],\n",
      "\n",
      "\n",
      "       [[[ 0.02748311,  0.05466297, -0.03044947, ...,  0.04330608,\n",
      "           0.0361672 ,  0.03301337],\n",
      "         [ 0.07873318, -0.01386151,  0.01887324, ..., -0.06435289,\n",
      "          -0.01225424,  0.08104566],\n",
      "         [-0.06315508,  0.05952916, -0.08306551, ..., -0.02851242,\n",
      "           0.05130813, -0.0656481 ],\n",
      "         ...,\n",
      "         [-0.06547608,  0.07070825, -0.00065825, ...,  0.07219679,\n",
      "          -0.05697143,  0.01660452],\n",
      "         [ 0.04916496, -0.02491244,  0.00833654, ..., -0.0157992 ,\n",
      "          -0.01938697,  0.03009418],\n",
      "         [ 0.00717793, -0.03298559, -0.01739898, ...,  0.0114097 ,\n",
      "          -0.05787303,  0.05300704]],\n",
      "\n",
      "        [[-0.07473069,  0.02848979, -0.04549986, ..., -0.04558746,\n",
      "          -0.01228824,  0.0298504 ],\n",
      "         [ 0.06957706, -0.01442101, -0.00057004, ...,  0.04694105,\n",
      "          -0.02655071,  0.06468054],\n",
      "         [ 0.01771154,  0.05432002, -0.08245452, ...,  0.04956289,\n",
      "           0.03708082,  0.01745286],\n",
      "         ...,\n",
      "         [ 0.06128564,  0.02099526,  0.02630184, ...,  0.03705242,\n",
      "           0.07263716, -0.03237545],\n",
      "         [-0.04019513,  0.07327709, -0.07493727, ...,  0.06015275,\n",
      "           0.04411378,  0.03903695],\n",
      "         [-0.08310628,  0.0359543 ,  0.06137318, ...,  0.02406245,\n",
      "          -0.04523174, -0.0708524 ]],\n",
      "\n",
      "        [[-0.02143302, -0.05449313,  0.07532034, ...,  0.08075134,\n",
      "           0.03031427,  0.046899  ],\n",
      "         [ 0.03097349, -0.03971943, -0.04904237, ...,  0.06232151,\n",
      "          -0.07516377, -0.07647143],\n",
      "         [ 0.04725625,  0.0479224 , -0.00935604, ...,  0.04201696,\n",
      "          -0.01020342, -0.03733595],\n",
      "         ...,\n",
      "         [-0.04562112,  0.05546121, -0.05400785, ..., -0.05528818,\n",
      "          -0.04675595, -0.005627  ],\n",
      "         [ 0.0093055 ,  0.01899704, -0.0068562 , ..., -0.07032013,\n",
      "          -0.03939432,  0.05087651],\n",
      "         [-0.00513718, -0.00470807,  0.07043848, ...,  0.02736435,\n",
      "           0.03472105, -0.08254743]]]], dtype=float32)>, <tf.Variable 'conv2d_5/bias:0' shape=(64,) dtype=float32, numpy=\n",
      "array([0., 0., 0., 0., 0., 0., 0., 0., 0., 0., 0., 0., 0., 0., 0., 0., 0.,\n",
      "       0., 0., 0., 0., 0., 0., 0., 0., 0., 0., 0., 0., 0., 0., 0., 0., 0.,\n",
      "       0., 0., 0., 0., 0., 0., 0., 0., 0., 0., 0., 0., 0., 0., 0., 0., 0.,\n",
      "       0., 0., 0., 0., 0., 0., 0., 0., 0., 0., 0., 0., 0.], dtype=float32)>, <tf.Variable 'dense_1/kernel:0' shape=(3136, 10) dtype=float32, numpy=\n",
      "array([[ 0.0104193 ,  0.01414707, -0.00854257, ..., -0.01221077,\n",
      "         0.02953571,  0.01559832],\n",
      "       [ 0.0013324 ,  0.00139647, -0.02694521, ..., -0.04319235,\n",
      "        -0.00335592, -0.01547639],\n",
      "       [ 0.01991224, -0.03299203, -0.00578719, ...,  0.02180915,\n",
      "        -0.00251051, -0.00804899],\n",
      "       ...,\n",
      "       [ 0.01612066, -0.01352763,  0.03414164, ..., -0.00746797,\n",
      "        -0.03269832, -0.00298203],\n",
      "       [-0.04022519,  0.02741851, -0.01615764, ...,  0.04093608,\n",
      "         0.00720582,  0.00282169],\n",
      "       [ 0.02252461,  0.00304188, -0.01183386, ..., -0.03187952,\n",
      "        -0.02379524,  0.01076302]], dtype=float32)>, <tf.Variable 'dense_1/bias:0' shape=(10,) dtype=float32, numpy=array([0., 0., 0., 0., 0., 0., 0., 0., 0., 0.], dtype=float32)>]\n"
     ]
    }
   ],
   "source": [
    "### 학습이 되지 않은 모델의 가중치 확인 --> 0에 가까운 실수\n",
    "print(cnn.weights) #학습에 의해서 가중치가 변해간다..는걸 알면 된다."
   ]
  },
  {
   "cell_type": "markdown",
   "metadata": {},
   "source": [
    "# Model Learning"
   ]
  },
  {
   "cell_type": "code",
   "execution_count": null,
   "metadata": {},
   "outputs": [],
   "source": [
    "## model 컴파일(compile)\n",
    "#- 개념 : 손실 함수 정의 + 최적화 함수 --> 모델 완성\n",
    "#- 손실 함수 : 모델이 계산한 예측과 정답(label)을 비교하여 손실(loss)을 계산\n",
    "#- 학습 : 경사하강법 --> 손실을 최소화하는 가중치 획득\n",
    "\n",
    "#**손실 함수 외우자! ** \n",
    "#이진 분류(binary classification)\n",
    "#tf.keras.losses.BinaryCrossentrypo\n",
    "#model.compile(loss='binary_crossentropy')\n",
    "#\n",
    "#- 0일 확률이 30이고 1일 확률이 70이야\n",
    "#\n",
    "#다중분류(multi classification)\n",
    "#1. tf.keras.losses.CategoricalCrossentropy() : \n",
    "#label --> One-Hot Encoding \n",
    "#model.compile(loss='categorical_crossentropy')\n",
    "#\n",
    "#2. tf.keras.losses.SparseCategoricalCrossentropy() :\n",
    "#label --> 정수 인코딩\n",
    "#model.compile(loss='sparse_categorical_crossentropy')\n",
    "\n",
    "#최적화\n",
    "#-최적화 함수\n",
    "#1 tf.keras.optimizers.Adam(learning_rate)\n",
    "#model.compile(loss='sparse_categorical_crossentropy', optimizer='adam', metrics=['acc]'))\n",
    "#2 pdf참조\n"
   ]
  },
  {
   "cell_type": "code",
   "execution_count": 27,
   "metadata": {},
   "outputs": [],
   "source": [
    "### 모델 컴파일 --> 손실 함수 정의 + 가중치 최적화 방식 + 검증용 데이터 평가 방식 --> 모델 완성\n",
    "cnn.compile(loss='sparse_categorical_crossentropy', \n",
    "            optimizer='adam',\n",
    "            metrics=['accuracy'])"
   ]
  },
  {
   "cell_type": "code",
   "execution_count": 28,
   "metadata": {},
   "outputs": [
    {
     "name": "stdout",
     "output_type": "stream",
     "text": [
      "Epoch 1/10\n",
      "WARNING:tensorflow:From c:\\Users\\human\\anaconda3\\Lib\\site-packages\\keras\\src\\utils\\tf_utils.py:492: The name tf.ragged.RaggedTensorValue is deprecated. Please use tf.compat.v1.ragged.RaggedTensorValue instead.\n",
      "\n",
      "WARNING:tensorflow:From c:\\Users\\human\\anaconda3\\Lib\\site-packages\\keras\\src\\engine\\base_layer_utils.py:384: The name tf.executing_eagerly_outside_functions is deprecated. Please use tf.compat.v1.executing_eagerly_outside_functions instead.\n",
      "\n",
      "750/750 [==============================] - 15s 18ms/step - loss: 0.2271 - accuracy: 0.9311 - val_loss: 0.0810 - val_accuracy: 0.9731\n",
      "Epoch 2/10\n",
      "750/750 [==============================] - 13s 18ms/step - loss: 0.0651 - accuracy: 0.9805 - val_loss: 0.0492 - val_accuracy: 0.9843\n",
      "Epoch 3/10\n",
      "750/750 [==============================] - 13s 17ms/step - loss: 0.0471 - accuracy: 0.9853 - val_loss: 0.0441 - val_accuracy: 0.9853\n",
      "Epoch 4/10\n",
      "750/750 [==============================] - 12s 17ms/step - loss: 0.0370 - accuracy: 0.9888 - val_loss: 0.0431 - val_accuracy: 0.9859\n",
      "Epoch 5/10\n",
      "750/750 [==============================] - 13s 17ms/step - loss: 0.0292 - accuracy: 0.9906 - val_loss: 0.0394 - val_accuracy: 0.9876\n",
      "Epoch 6/10\n",
      "750/750 [==============================] - 13s 17ms/step - loss: 0.0246 - accuracy: 0.9925 - val_loss: 0.0423 - val_accuracy: 0.9864\n",
      "Epoch 7/10\n",
      "750/750 [==============================] - 13s 17ms/step - loss: 0.0206 - accuracy: 0.9934 - val_loss: 0.0472 - val_accuracy: 0.9856\n",
      "Epoch 8/10\n",
      "750/750 [==============================] - 12s 16ms/step - loss: 0.0159 - accuracy: 0.9955 - val_loss: 0.0540 - val_accuracy: 0.9858\n",
      "Epoch 9/10\n",
      "750/750 [==============================] - 12s 17ms/step - loss: 0.0143 - accuracy: 0.9954 - val_loss: 0.0401 - val_accuracy: 0.9877\n",
      "Epoch 10/10\n",
      "750/750 [==============================] - 13s 17ms/step - loss: 0.0117 - accuracy: 0.9963 - val_loss: 0.0419 - val_accuracy: 0.9888\n"
     ]
    }
   ],
   "source": [
    "### 모델 학습 --> LSTM과는 달리 학습의 결과물을 저장할 수 있음\n",
    "history = cnn.fit(x=X_train,\n",
    "                  y=y_train,\n",
    "                  batch_size=64,\n",
    "                  epochs=10, #학습횟수\n",
    "                  validation_data=(X_val, y_val))#데이터를 직접 넣어줄 것이다.\n",
    "\n",
    "# 과적합일어날 때 멈추고 싶을 때 callback을 하면됨. tf.keras.callbacks.EarlyStopping, patience 몇번까지 참아줄것인가, 이후 학습중지\n",
    "\n",
    "# tf.keras.callback.modelCheckpoint 저장의 조건을 설정"
   ]
  },
  {
   "cell_type": "markdown",
   "metadata": {},
   "source": [
    "## 학습 결과 시각화(Visualization)"
   ]
  },
  {
   "cell_type": "code",
   "execution_count": 35,
   "metadata": {},
   "outputs": [
    {
     "name": "stdout",
     "output_type": "stream",
     "text": [
      "<keras.src.callbacks.History object at 0x000001A9B7D6C090>\n",
      "********************************************************************************\n",
      "<class 'dict'>\n",
      "********************************************************************************\n",
      "{'loss': [0.2271115779876709, 0.06508064270019531, 0.04710904508829117, 0.03701412305235863, 0.029216688126325607, 0.024645855650305748, 0.020599115639925003, 0.015851030126214027, 0.014337114058434963, 0.011732044629752636], 'accuracy': [0.9311249852180481, 0.9804791808128357, 0.9853125214576721, 0.9887708425521851, 0.9905833601951599, 0.992520809173584, 0.9933750033378601, 0.995520830154419, 0.9954166412353516, 0.9963333606719971], 'val_loss': [0.0809691846370697, 0.0491979718208313, 0.0441146120429039, 0.04305544123053551, 0.0393989235162735, 0.0423237569630146, 0.04722152650356293, 0.054038599133491516, 0.04009539633989334, 0.041949499398469925], 'val_accuracy': [0.9730833172798157, 0.984333336353302, 0.9853333234786987, 0.9859166741371155, 0.987583339214325, 0.9864166378974915, 0.9855833053588867, 0.9858333468437195, 0.9877499938011169, 0.9888333082199097]}\n"
     ]
    }
   ],
   "source": [
    "### 학습의 결과물 저장 변수 history 확인\n",
    "print(history)\n",
    "print('*'*80)\n",
    "print(type(history.history))\n",
    "print('*'*80)\n",
    "print(history.history)\n",
    "print('*'*80)\n"
   ]
  },
  {
   "cell_type": "code",
   "execution_count": 56,
   "metadata": {},
   "outputs": [
    {
     "data": {
      "image/png": "[encoded data removed]",
      "text/plain": [
       "<Figure size 1200x600 with 1 Axes>"
      ]
     },
     "metadata": {},
     "output_type": "display_data"
    }
   ],
   "source": [
    "### 학습 결과 시각화(1) - loss\n",
    "\n",
    "# plt 기본값 6.4 4.8\n",
    "\n",
    "plt.figure(figsize=(12,6))\n",
    "x = np.arange(1,11)\n",
    "plt.plot(x, history.history['accuracy'], label='train_accuracy')\n",
    "plt.plot(x, history.history['val_accuracy'], label='val_accuracy')\n",
    "plt.legend()\n",
    "plt.show()\n",
    "\n",
    "# 검증용 또는 평가용 기준으로.... train_loss val_loss로 바꿔서 해볼 것 "
   ]
  }
 ],
 "metadata": {
  "kernelspec": {
   "display_name": "NvulyTarget",
   "language": "python",
   "name": "conda"
  },
  "language_info": {
   "codemirror_mode": {
    "name": "ipython",
    "version": 3
   },
   "file_extension": ".py",
   "mimetype": "text/x-python",
   "name": "python",
   "nbconvert_exporter": "python",
   "pygments_lexer": "ipython3",
   "version": "3.11.5"
  }
 },
 "nbformat": 4,
 "nbformat_minor": 2
}
