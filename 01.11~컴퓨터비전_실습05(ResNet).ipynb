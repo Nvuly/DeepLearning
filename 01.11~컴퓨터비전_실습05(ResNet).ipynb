{
 "cells": [
  {
   "cell_type": "markdown",
   "metadata": {},
   "source": [
    "# ResNet(Residual Network) 모델을 이용한 이미지 분류 실습\n",
    "- VGG16에 비해 상품성이 좋다. 그래서 지금까지도 쓰이는 모델."
   ]
  },
  {
   "cell_type": "code",
   "execution_count": null,
   "metadata": {},
   "outputs": [],
   "source": [
    "# 모델 소개\n",
    "\n",
    "'''\n",
    "\n",
    "VGG 처럼 계속 변형되고 컨볼루션 하는게 아니라\n",
    "\n",
    "처리된 결과값을 또 더하고 컨볼루션 처리된걸 또 더하고 또 더하고..\n",
    "\n",
    "계속 데이터 흐름을 보강하는 것.\n",
    "\n",
    "육수가 옅어지는걸 자꾸 진국을 넣어서 농도를 유지해줌.\n",
    "\n",
    "마치 LSTM의 논리도 비슷.\n",
    "\n",
    "Residual Connection 잔차 연결.\n",
    "\n",
    "'''"
   ]
  }
 ],
 "metadata": {
  "language_info": {
   "name": "python"
  }
 },
 "nbformat": 4,
 "nbformat_minor": 2
}
